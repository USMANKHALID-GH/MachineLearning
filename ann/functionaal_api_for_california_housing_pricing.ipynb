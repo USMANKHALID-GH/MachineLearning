{
 "cells": [
  {
   "cell_type": "code",
   "execution_count": 1,
   "id": "82fe74ae",
   "metadata": {},
   "outputs": [],
   "source": [
    "import tensorflow as tf\n",
    "import tensorflow.keras as tfk\n",
    "from sklearn.pipeline import make_pipeline\n",
    "from sklearn.preprocessing import StandardScaler\n",
    "from sklearn.datasets import fetch_california_housing\n",
    "import numpy as np\n",
    "import pandas as pd\n",
    "from sklearn.metrics import mean_squared_error\n",
    "from sklearn.neural_network import MLPRegressor\n",
    "from sklearn.preprocessing import StandardScaler\n",
    "from sklearn.model_selection import train_test_split\n",
    "from sklearn.pipeline import make_pipeline"
   ]
  },
  {
   "cell_type": "code",
   "execution_count": 2,
   "id": "7f7aa655",
   "metadata": {},
   "outputs": [],
   "source": [
    "dataset=fetch_california_housing(as_frame=True)"
   ]
  },
  {
   "cell_type": "code",
   "execution_count": 3,
   "id": "533c02a0",
   "metadata": {},
   "outputs": [],
   "source": [
    "df=dataset.frame\n",
    "y=df.MedHouseVal\n",
    "df.drop(columns=\"MedHouseVal\", inplace=True, axis=1 )\n",
    "X=df"
   ]
  },
  {
   "cell_type": "code",
   "execution_count": 4,
   "id": "66bcfa5c",
   "metadata": {},
   "outputs": [
    {
     "data": {
      "text/html": [
       "<div>\n",
       "<style scoped>\n",
       "    .dataframe tbody tr th:only-of-type {\n",
       "        vertical-align: middle;\n",
       "    }\n",
       "\n",
       "    .dataframe tbody tr th {\n",
       "        vertical-align: top;\n",
       "    }\n",
       "\n",
       "    .dataframe thead th {\n",
       "        text-align: right;\n",
       "    }\n",
       "</style>\n",
       "<table border=\"1\" class=\"dataframe\">\n",
       "  <thead>\n",
       "    <tr style=\"text-align: right;\">\n",
       "      <th></th>\n",
       "      <th>MedInc</th>\n",
       "      <th>HouseAge</th>\n",
       "      <th>AveRooms</th>\n",
       "      <th>AveBedrms</th>\n",
       "      <th>Population</th>\n",
       "      <th>AveOccup</th>\n",
       "      <th>Latitude</th>\n",
       "      <th>Longitude</th>\n",
       "    </tr>\n",
       "  </thead>\n",
       "  <tbody>\n",
       "    <tr>\n",
       "      <th>0</th>\n",
       "      <td>8.3252</td>\n",
       "      <td>41.0</td>\n",
       "      <td>6.984127</td>\n",
       "      <td>1.023810</td>\n",
       "      <td>322.0</td>\n",
       "      <td>2.555556</td>\n",
       "      <td>37.88</td>\n",
       "      <td>-122.23</td>\n",
       "    </tr>\n",
       "    <tr>\n",
       "      <th>1</th>\n",
       "      <td>8.3014</td>\n",
       "      <td>21.0</td>\n",
       "      <td>6.238137</td>\n",
       "      <td>0.971880</td>\n",
       "      <td>2401.0</td>\n",
       "      <td>2.109842</td>\n",
       "      <td>37.86</td>\n",
       "      <td>-122.22</td>\n",
       "    </tr>\n",
       "    <tr>\n",
       "      <th>2</th>\n",
       "      <td>7.2574</td>\n",
       "      <td>52.0</td>\n",
       "      <td>8.288136</td>\n",
       "      <td>1.073446</td>\n",
       "      <td>496.0</td>\n",
       "      <td>2.802260</td>\n",
       "      <td>37.85</td>\n",
       "      <td>-122.24</td>\n",
       "    </tr>\n",
       "    <tr>\n",
       "      <th>3</th>\n",
       "      <td>5.6431</td>\n",
       "      <td>52.0</td>\n",
       "      <td>5.817352</td>\n",
       "      <td>1.073059</td>\n",
       "      <td>558.0</td>\n",
       "      <td>2.547945</td>\n",
       "      <td>37.85</td>\n",
       "      <td>-122.25</td>\n",
       "    </tr>\n",
       "    <tr>\n",
       "      <th>4</th>\n",
       "      <td>3.8462</td>\n",
       "      <td>52.0</td>\n",
       "      <td>6.281853</td>\n",
       "      <td>1.081081</td>\n",
       "      <td>565.0</td>\n",
       "      <td>2.181467</td>\n",
       "      <td>37.85</td>\n",
       "      <td>-122.25</td>\n",
       "    </tr>\n",
       "  </tbody>\n",
       "</table>\n",
       "</div>"
      ],
      "text/plain": [
       "   MedInc  HouseAge  AveRooms  AveBedrms  Population  AveOccup  Latitude  \\\n",
       "0  8.3252      41.0  6.984127   1.023810       322.0  2.555556     37.88   \n",
       "1  8.3014      21.0  6.238137   0.971880      2401.0  2.109842     37.86   \n",
       "2  7.2574      52.0  8.288136   1.073446       496.0  2.802260     37.85   \n",
       "3  5.6431      52.0  5.817352   1.073059       558.0  2.547945     37.85   \n",
       "4  3.8462      52.0  6.281853   1.081081       565.0  2.181467     37.85   \n",
       "\n",
       "   Longitude  \n",
       "0    -122.23  \n",
       "1    -122.22  \n",
       "2    -122.24  \n",
       "3    -122.25  \n",
       "4    -122.25  "
      ]
     },
     "execution_count": 4,
     "metadata": {},
     "output_type": "execute_result"
    }
   ],
   "source": [
    "X.head(5)"
   ]
  },
  {
   "cell_type": "code",
   "execution_count": null,
   "id": "f9e7cf75",
   "metadata": {},
   "outputs": [],
   "source": []
  },
  {
   "cell_type": "code",
   "execution_count": 5,
   "id": "25bd9a7c",
   "metadata": {},
   "outputs": [],
   "source": [
    "X_train, X_test, y_train, y_test = train_test_split(X, y, random_state=42, shuffle=True, test_size=0.2)"
   ]
  },
  {
   "cell_type": "code",
   "execution_count": 10,
   "id": "19e10adc",
   "metadata": {},
   "outputs": [],
   "source": [
    "tf.random.set_seed=42\n",
    "norm_layers=tfk.layers.Normalization(input_shape=X_train.shape[1:])"
   ]
  },
  {
   "cell_type": "code",
   "execution_count": 8,
   "id": "48bc1ddc",
   "metadata": {},
   "outputs": [],
   "source": [
    "input_=tfk.layers.Input(shape=X_train.shape[1:])\n",
    "normalize=tfk.layers.Normalization()(input_)\n",
    "hidden_layer1=tfk.layers.Dense(120,activation=\"relu\")(normalize)\n",
    "hidden_layer2=tfk.layers.Dense(120,activation=\"relu\")(hidden_layer1)\n",
    "hidden_layer3=tfk.layers.Dense(120,activation=\"relu\")(hidden_layer2)\n",
    "hidden_layers3=hidden_layer1=tfk.layers.Dense(120,activation=\"relu\")(hidden_layer3)\n",
    "concat=tfk.layers.concatenate([normalize,hidden_layers3])\n",
    "output=tfk.layers.Dense(1)(concat)\n",
    "model=tfk.Model(inputs=[input_],outputs=[output])"
   ]
  },
  {
   "cell_type": "code",
   "execution_count": 12,
   "id": "a868da3d",
   "metadata": {},
   "outputs": [
    {
     "name": "stdout",
     "output_type": "stream",
     "text": [
      "Epoch 1/20\n",
      "516/516 [==============================] - 1s 2ms/step - loss: 125.4161 - root_mean_squared_error: 11.1989 - val_loss: 2.3462 - val_root_mean_squared_error: 1.5317\n",
      "Epoch 2/20\n",
      "516/516 [==============================] - 1s 1ms/step - loss: 19.7709 - root_mean_squared_error: 4.4464 - val_loss: 0.9380 - val_root_mean_squared_error: 0.9685\n",
      "Epoch 3/20\n",
      "516/516 [==============================] - 1s 1ms/step - loss: 2.4237 - root_mean_squared_error: 1.5568 - val_loss: 0.8879 - val_root_mean_squared_error: 0.9423\n",
      "Epoch 4/20\n",
      "516/516 [==============================] - 1s 1ms/step - loss: 8.8253 - root_mean_squared_error: 2.9707 - val_loss: 5.4976 - val_root_mean_squared_error: 2.3447\n",
      "Epoch 5/20\n",
      "516/516 [==============================] - 1s 1ms/step - loss: 3.4500 - root_mean_squared_error: 1.8574 - val_loss: 10.9172 - val_root_mean_squared_error: 3.3041\n",
      "Epoch 6/20\n",
      "516/516 [==============================] - 1s 1ms/step - loss: 2.3703 - root_mean_squared_error: 1.5396 - val_loss: 18.3243 - val_root_mean_squared_error: 4.2807\n",
      "Epoch 7/20\n",
      "516/516 [==============================] - 1s 1ms/step - loss: 4.6523 - root_mean_squared_error: 2.1569 - val_loss: 0.9401 - val_root_mean_squared_error: 0.9696\n",
      "Epoch 8/20\n",
      "516/516 [==============================] - 1s 1ms/step - loss: 6.1624 - root_mean_squared_error: 2.4824 - val_loss: 1.8564 - val_root_mean_squared_error: 1.3625\n",
      "Epoch 9/20\n",
      "516/516 [==============================] - 1s 1ms/step - loss: 4.9780 - root_mean_squared_error: 2.2311 - val_loss: 0.7145 - val_root_mean_squared_error: 0.8453\n",
      "Epoch 10/20\n",
      "516/516 [==============================] - 1s 1ms/step - loss: 4.2293 - root_mean_squared_error: 2.0565 - val_loss: 0.8384 - val_root_mean_squared_error: 0.9157\n",
      "Epoch 11/20\n",
      "516/516 [==============================] - 1s 1ms/step - loss: 1.8043 - root_mean_squared_error: 1.3432 - val_loss: 0.7445 - val_root_mean_squared_error: 0.8629\n",
      "Epoch 12/20\n",
      "516/516 [==============================] - 1s 1ms/step - loss: 5.2528 - root_mean_squared_error: 2.2919 - val_loss: 16.5104 - val_root_mean_squared_error: 4.0633\n",
      "Epoch 13/20\n",
      "516/516 [==============================] - 1s 1ms/step - loss: 5.3100 - root_mean_squared_error: 2.3043 - val_loss: 0.7945 - val_root_mean_squared_error: 0.8914\n",
      "Epoch 14/20\n",
      "516/516 [==============================] - 1s 1ms/step - loss: 0.8633 - root_mean_squared_error: 0.9291 - val_loss: 0.7628 - val_root_mean_squared_error: 0.8734\n",
      "Epoch 15/20\n",
      "516/516 [==============================] - 1s 1ms/step - loss: 1.9247 - root_mean_squared_error: 1.3873 - val_loss: 0.7522 - val_root_mean_squared_error: 0.8673\n",
      "Epoch 16/20\n",
      "516/516 [==============================] - 1s 1ms/step - loss: 6.5524 - root_mean_squared_error: 2.5598 - val_loss: 0.6510 - val_root_mean_squared_error: 0.8068\n",
      "Epoch 17/20\n",
      "516/516 [==============================] - 1s 1ms/step - loss: 1.5919 - root_mean_squared_error: 1.2617 - val_loss: 0.6859 - val_root_mean_squared_error: 0.8282\n",
      "Epoch 18/20\n",
      "516/516 [==============================] - 1s 1ms/step - loss: 1.3588 - root_mean_squared_error: 1.1657 - val_loss: 0.7353 - val_root_mean_squared_error: 0.8575\n",
      "Epoch 19/20\n",
      "516/516 [==============================] - 1s 1ms/step - loss: 1.7267 - root_mean_squared_error: 1.3140 - val_loss: 0.7680 - val_root_mean_squared_error: 0.8764\n",
      "Epoch 20/20\n",
      "516/516 [==============================] - 1s 1ms/step - loss: 0.9422 - root_mean_squared_error: 0.9707 - val_loss: 0.6615 - val_root_mean_squared_error: 0.8133\n"
     ]
    }
   ],
   "source": [
    "model.compile(\n",
    "    loss=\"mse\",\n",
    "    optimizer=tfk.optimizers.Adam(learning_rate=1e-3),\n",
    "    metrics=[\"RootMeanSquaredError\"]\n",
    ")\n",
    "norm_layers.adapt(X_train)\n",
    "history=model.fit(X_train,y_train, epochs=20,validation_data=(X_test,y_test))"
   ]
  },
  {
   "cell_type": "code",
   "execution_count": 16,
   "id": "13f08e8c",
   "metadata": {},
   "outputs": [
    {
     "name": "stdout",
     "output_type": "stream",
     "text": [
      "129/129 [==============================] - 0s 758us/step - loss: 0.6615 - root_mean_squared_error: 0.8133\n"
     ]
    },
    {
     "data": {
      "text/plain": [
       "[0.6614993810653687, 0.8133261203765869]"
      ]
     },
     "execution_count": 16,
     "metadata": {},
     "output_type": "execute_result"
    }
   ],
   "source": [
    "model.evaluate(X_test,y_test)"
   ]
  },
  {
   "cell_type": "code",
   "execution_count": 17,
   "id": "548df475",
   "metadata": {},
   "outputs": [],
   "source": [
    "history_df = pd.DataFrame(history.history)"
   ]
  },
  {
   "cell_type": "code",
   "execution_count": 18,
   "id": "0d07ec06",
   "metadata": {},
   "outputs": [
    {
     "name": "stdout",
     "output_type": "stream",
     "text": [
      "129/129 [==============================] - 0s 750us/step - loss: 0.6615 - root_mean_squared_error: 0.8133\n"
     ]
    },
    {
     "data": {
      "text/plain": [
       "[0.6614993810653687, 0.8133261203765869]"
      ]
     },
     "execution_count": 18,
     "metadata": {},
     "output_type": "execute_result"
    }
   ],
   "source": [
    "model.evaluate(X_test,y_test)"
   ]
  },
  {
   "cell_type": "code",
   "execution_count": 20,
   "id": "0238d600",
   "metadata": {},
   "outputs": [
    {
     "name": "stdout",
     "output_type": "stream",
     "text": [
      "2/2 [==============================] - 0s 2ms/step\n"
     ]
    }
   ],
   "source": [
    "pred=model.predict(X_test[:40])"
   ]
  },
  {
   "cell_type": "code",
   "execution_count": 21,
   "id": "3df71937",
   "metadata": {},
   "outputs": [
    {
     "data": {
      "text/plain": [
       "array([[0.84],\n",
       "       [1.33],\n",
       "       [2.03],\n",
       "       [2.48],\n",
       "       [1.89],\n",
       "       [1.99],\n",
       "       [2.61],\n",
       "       [2.02],\n",
       "       [1.94],\n",
       "       [3.98],\n",
       "       [1.41],\n",
       "       [1.68],\n",
       "       [1.28],\n",
       "       [1.49],\n",
       "       [2.48],\n",
       "       [1.68],\n",
       "       [2.25],\n",
       "       [2.06],\n",
       "       [2.12],\n",
       "       [1.12],\n",
       "       [2.26],\n",
       "       [2.53],\n",
       "       [2.04],\n",
       "       [2.75],\n",
       "       [1.92],\n",
       "       [1.11],\n",
       "       [1.33],\n",
       "       [1.72],\n",
       "       [1.56],\n",
       "       [3.01],\n",
       "       [1.08],\n",
       "       [1.24],\n",
       "       [1.57],\n",
       "       [3.2 ],\n",
       "       [1.88],\n",
       "       [2.28],\n",
       "       [2.32],\n",
       "       [1.79],\n",
       "       [1.91],\n",
       "       [1.72]], dtype=float32)"
      ]
     },
     "execution_count": 21,
     "metadata": {},
     "output_type": "execute_result"
    }
   ],
   "source": [
    "pred.round(2)"
   ]
  },
  {
   "cell_type": "code",
   "execution_count": 22,
   "id": "0c2d0cde",
   "metadata": {},
   "outputs": [
    {
     "data": {
      "text/plain": [
       "array([[0.84291893],\n",
       "       [1.3334471 ],\n",
       "       [2.0307527 ],\n",
       "       [2.4810872 ],\n",
       "       [1.8925778 ]], dtype=float32)"
      ]
     },
     "execution_count": 22,
     "metadata": {},
     "output_type": "execute_result"
    }
   ],
   "source": [
    "pred[:5]"
   ]
  },
  {
   "cell_type": "code",
   "execution_count": 23,
   "id": "383f003a",
   "metadata": {},
   "outputs": [
    {
     "data": {
      "text/plain": [
       "20046    0.47700\n",
       "3024     0.45800\n",
       "15663    5.00001\n",
       "20484    2.18600\n",
       "9814     2.78000\n",
       "Name: MedHouseVal, dtype: float64"
      ]
     },
     "execution_count": 23,
     "metadata": {},
     "output_type": "execute_result"
    }
   ],
   "source": [
    "y_test[:5]"
   ]
  },
  {
   "cell_type": "code",
   "execution_count": null,
   "id": "0bb7f822",
   "metadata": {},
   "outputs": [],
   "source": []
  }
 ],
 "metadata": {
  "kernelspec": {
   "display_name": "Python 3 (ipykernel)",
   "language": "python",
   "name": "python3"
  },
  "language_info": {
   "codemirror_mode": {
    "name": "ipython",
    "version": 3
   },
   "file_extension": ".py",
   "mimetype": "text/x-python",
   "name": "python",
   "nbconvert_exporter": "python",
   "pygments_lexer": "ipython3",
   "version": "3.10.9"
  }
 },
 "nbformat": 4,
 "nbformat_minor": 5
}
