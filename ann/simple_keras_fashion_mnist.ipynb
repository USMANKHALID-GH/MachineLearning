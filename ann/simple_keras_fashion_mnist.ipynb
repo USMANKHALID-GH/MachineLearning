{
 "cells": [
  {
   "cell_type": "code",
   "execution_count": 12,
   "id": "43002161",
   "metadata": {},
   "outputs": [],
   "source": [
    "import tensorflow as tf\n",
    "import tensorflow.keras as tfk\n",
    "from sklearn.pipeline import make_pipeline\n",
    "from sklearn.preprocessing import StandardScaler"
   ]
  },
  {
   "cell_type": "code",
   "execution_count": 5,
   "id": "8e9e1f72",
   "metadata": {},
   "outputs": [
    {
     "name": "stdout",
     "output_type": "stream",
     "text": [
      "Downloading data from https://storage.googleapis.com/tensorflow/tf-keras-datasets/train-labels-idx1-ubyte.gz\n",
      "29515/29515 [==============================] - 0s 1us/step\n",
      "Downloading data from https://storage.googleapis.com/tensorflow/tf-keras-datasets/train-images-idx3-ubyte.gz\n",
      "26421880/26421880 [==============================] - 7s 0us/step\n",
      "Downloading data from https://storage.googleapis.com/tensorflow/tf-keras-datasets/t10k-labels-idx1-ubyte.gz\n",
      "5148/5148 [==============================] - 0s 0s/step\n",
      "Downloading data from https://storage.googleapis.com/tensorflow/tf-keras-datasets/t10k-images-idx3-ubyte.gz\n",
      "4422102/4422102 [==============================] - 1s 0us/step\n"
     ]
    }
   ],
   "source": [
    "dataset=tfk.datasets.fashion_mnist.load_data()"
   ]
  },
  {
   "cell_type": "code",
   "execution_count": 6,
   "id": "8ebff290",
   "metadata": {},
   "outputs": [],
   "source": [
    "import pandas as pd\n",
    "df=pd.DataFrame(dataset)"
   ]
  },
  {
   "cell_type": "code",
   "execution_count": 7,
   "id": "73ba7b47",
   "metadata": {},
   "outputs": [
    {
     "data": {
      "text/html": [
       "<div>\n",
       "<style scoped>\n",
       "    .dataframe tbody tr th:only-of-type {\n",
       "        vertical-align: middle;\n",
       "    }\n",
       "\n",
       "    .dataframe tbody tr th {\n",
       "        vertical-align: top;\n",
       "    }\n",
       "\n",
       "    .dataframe thead th {\n",
       "        text-align: right;\n",
       "    }\n",
       "</style>\n",
       "<table border=\"1\" class=\"dataframe\">\n",
       "  <thead>\n",
       "    <tr style=\"text-align: right;\">\n",
       "      <th></th>\n",
       "      <th>0</th>\n",
       "      <th>1</th>\n",
       "    </tr>\n",
       "  </thead>\n",
       "  <tbody>\n",
       "    <tr>\n",
       "      <th>0</th>\n",
       "      <td>[[[0, 0, 0, 0, 0, 0, 0, 0, 0, 0, 0, 0, 0, 0, 0...</td>\n",
       "      <td>[9, 0, 0, 3, 0, 2, 7, 2, 5, 5, 0, 9, 5, 5, 7, ...</td>\n",
       "    </tr>\n",
       "    <tr>\n",
       "      <th>1</th>\n",
       "      <td>[[[0, 0, 0, 0, 0, 0, 0, 0, 0, 0, 0, 0, 0, 0, 0...</td>\n",
       "      <td>[9, 2, 1, 1, 6, 1, 4, 6, 5, 7, 4, 5, 7, 3, 4, ...</td>\n",
       "    </tr>\n",
       "  </tbody>\n",
       "</table>\n",
       "</div>"
      ],
      "text/plain": [
       "                                                   0  \\\n",
       "0  [[[0, 0, 0, 0, 0, 0, 0, 0, 0, 0, 0, 0, 0, 0, 0...   \n",
       "1  [[[0, 0, 0, 0, 0, 0, 0, 0, 0, 0, 0, 0, 0, 0, 0...   \n",
       "\n",
       "                                                   1  \n",
       "0  [9, 0, 0, 3, 0, 2, 7, 2, 5, 5, 0, 9, 5, 5, 7, ...  \n",
       "1  [9, 2, 1, 1, 6, 1, 4, 6, 5, 7, 4, 5, 7, 3, 4, ...  "
      ]
     },
     "execution_count": 7,
     "metadata": {},
     "output_type": "execute_result"
    }
   ],
   "source": [
    "df.head(4)"
   ]
  },
  {
   "cell_type": "code",
   "execution_count": 31,
   "id": "691e8cbf",
   "metadata": {},
   "outputs": [],
   "source": [
    "(X_train,y_train),(X_test,y_test)=dataset"
   ]
  },
  {
   "cell_type": "code",
   "execution_count": 57,
   "id": "e132b8cb",
   "metadata": {},
   "outputs": [],
   "source": [
    "X_train=X_train/255.0\n",
    "X_test=X_test/255.0"
   ]
  },
  {
   "cell_type": "code",
   "execution_count": null,
   "id": "934b7ad8",
   "metadata": {},
   "outputs": [],
   "source": []
  },
  {
   "cell_type": "code",
   "execution_count": 32,
   "id": "323989e1",
   "metadata": {},
   "outputs": [
    {
     "name": "stdout",
     "output_type": "stream",
     "text": [
      "X_train shape: (60000, 28, 28)\n",
      "y_train shape: (60000,)\n",
      "X_test shape: (10000, 28, 28)\n",
      "y_test shape: (10000,)\n"
     ]
    }
   ],
   "source": [
    "print(\"X_train shape:\", X_train.shape)\n",
    "print(\"y_train shape:\", y_train.shape)\n",
    "print(\"X_test shape:\", X_test.shape)\n",
    "print(\"y_test shape:\", y_test.shape)"
   ]
  },
  {
   "cell_type": "code",
   "execution_count": 58,
   "id": "a330041f",
   "metadata": {},
   "outputs": [],
   "source": [
    "tf.random.set_seed=42\n",
    "model=tfk.Sequential()\n",
    "model.add(tfk.layers.Input(shape=[28,28]))\n",
    "model.add(tfk.layers.Flatten())\n",
    "model.add(tfk.layers.Dense(50,activation=\"relu\"))\n",
    "\n",
    "model.add(tfk.layers.Dense(90,activation=\"relu\"))\n",
    "model.add(tfk.layers.Dense(10,activation=\"softmax\"))"
   ]
  },
  {
   "cell_type": "code",
   "execution_count": null,
   "id": "71219b1a",
   "metadata": {},
   "outputs": [],
   "source": [
    "\n"
   ]
  },
  {
   "cell_type": "code",
   "execution_count": null,
   "id": "ddf235a4",
   "metadata": {},
   "outputs": [],
   "source": []
  },
  {
   "cell_type": "code",
   "execution_count": 59,
   "id": "dd148e72",
   "metadata": {},
   "outputs": [
    {
     "name": "stdout",
     "output_type": "stream",
     "text": [
      "Model: \"sequential_7\"\n",
      "_________________________________________________________________\n",
      " Layer (type)                Output Shape              Param #   \n",
      "=================================================================\n",
      " flatten_2 (Flatten)         (None, 784)               0         \n",
      "                                                                 \n",
      " dense_23 (Dense)            (None, 50)                39250     \n",
      "                                                                 \n",
      " dense_24 (Dense)            (None, 90)                4590      \n",
      "                                                                 \n",
      " dense_25 (Dense)            (None, 10)                910       \n",
      "                                                                 \n",
      "=================================================================\n",
      "Total params: 44750 (174.80 KB)\n",
      "Trainable params: 44750 (174.80 KB)\n",
      "Non-trainable params: 0 (0.00 Byte)\n",
      "_________________________________________________________________\n"
     ]
    }
   ],
   "source": [
    "model.summary()"
   ]
  },
  {
   "cell_type": "code",
   "execution_count": 43,
   "id": "9aee1585",
   "metadata": {},
   "outputs": [
    {
     "data": {
      "text/plain": [
       "<keras.src.layers.core.dense.Dense at 0x2889467eb00>"
      ]
     },
     "execution_count": 43,
     "metadata": {},
     "output_type": "execute_result"
    }
   ],
   "source": [
    "model.layers[1]"
   ]
  },
  {
   "cell_type": "code",
   "execution_count": 60,
   "id": "502ae0ea",
   "metadata": {},
   "outputs": [],
   "source": [
    "model.compile(\n",
    "    loss=\"sparse_categorical_crossentropy\",\n",
    "    optimizer=\"sgd\",\n",
    "    metrics=[\"accuracy\"]\n",
    ")\n"
   ]
  },
  {
   "cell_type": "code",
   "execution_count": 66,
   "id": "e6d65989",
   "metadata": {},
   "outputs": [
    {
     "name": "stdout",
     "output_type": "stream",
     "text": [
      "Epoch 1/80\n",
      "1875/1875 [==============================] - 2s 1ms/step - loss: 0.9754 - accuracy: 0.6141 - val_loss: 64.7283 - val_accuracy: 0.4054\n",
      "Epoch 2/80\n",
      "1875/1875 [==============================] - 2s 1ms/step - loss: 0.9676 - accuracy: 0.6155 - val_loss: 64.3648 - val_accuracy: 0.4076\n",
      "Epoch 3/80\n",
      "1875/1875 [==============================] - 2s 1ms/step - loss: 0.9657 - accuracy: 0.6187 - val_loss: 64.7794 - val_accuracy: 0.4103\n",
      "Epoch 4/80\n",
      "1875/1875 [==============================] - 2s 1ms/step - loss: 0.9628 - accuracy: 0.6198 - val_loss: 63.9512 - val_accuracy: 0.4153\n",
      "Epoch 5/80\n",
      "1875/1875 [==============================] - 2s 1ms/step - loss: 0.9502 - accuracy: 0.6236 - val_loss: 64.4516 - val_accuracy: 0.4219\n",
      "Epoch 6/80\n",
      "1875/1875 [==============================] - 2s 1ms/step - loss: 0.9476 - accuracy: 0.6262 - val_loss: 64.5690 - val_accuracy: 0.4251\n",
      "Epoch 7/80\n",
      "1875/1875 [==============================] - 2s 1ms/step - loss: 0.9420 - accuracy: 0.6276 - val_loss: 66.2372 - val_accuracy: 0.4316\n",
      "Epoch 8/80\n",
      "1875/1875 [==============================] - 2s 1ms/step - loss: 0.9380 - accuracy: 0.6325 - val_loss: 65.7333 - val_accuracy: 0.4367\n",
      "Epoch 9/80\n",
      "1875/1875 [==============================] - 2s 1ms/step - loss: 0.9303 - accuracy: 0.6324 - val_loss: 65.3701 - val_accuracy: 0.4367\n",
      "Epoch 10/80\n",
      "1875/1875 [==============================] - 2s 1ms/step - loss: 0.9263 - accuracy: 0.6401 - val_loss: 68.0625 - val_accuracy: 0.4418\n",
      "Epoch 11/80\n",
      "1875/1875 [==============================] - 2s 1ms/step - loss: 0.9222 - accuracy: 0.6403 - val_loss: 68.0347 - val_accuracy: 0.4445\n",
      "Epoch 12/80\n",
      "1875/1875 [==============================] - 2s 1ms/step - loss: 0.9193 - accuracy: 0.6422 - val_loss: 68.8034 - val_accuracy: 0.4447\n",
      "Epoch 13/80\n",
      "1875/1875 [==============================] - 2s 1ms/step - loss: 0.9139 - accuracy: 0.6442 - val_loss: 68.9841 - val_accuracy: 0.4501\n",
      "Epoch 14/80\n",
      "1875/1875 [==============================] - 2s 1ms/step - loss: 0.9136 - accuracy: 0.6427 - val_loss: 68.9876 - val_accuracy: 0.4503\n",
      "Epoch 15/80\n",
      "1875/1875 [==============================] - 2s 1ms/step - loss: 0.9113 - accuracy: 0.6442 - val_loss: 67.7061 - val_accuracy: 0.4539\n",
      "Epoch 16/80\n",
      "1875/1875 [==============================] - 2s 1ms/step - loss: 0.9028 - accuracy: 0.6518 - val_loss: 69.6170 - val_accuracy: 0.4597\n",
      "Epoch 17/80\n",
      "1875/1875 [==============================] - 2s 1ms/step - loss: 0.8974 - accuracy: 0.6519 - val_loss: 69.7660 - val_accuracy: 0.4568\n",
      "Epoch 18/80\n",
      "1875/1875 [==============================] - 2s 1ms/step - loss: 0.8887 - accuracy: 0.6577 - val_loss: 70.6869 - val_accuracy: 0.4525\n",
      "Epoch 19/80\n",
      "1875/1875 [==============================] - 2s 1ms/step - loss: 0.8885 - accuracy: 0.6610 - val_loss: 70.1637 - val_accuracy: 0.4598\n",
      "Epoch 20/80\n",
      "1875/1875 [==============================] - 2s 1ms/step - loss: 0.8848 - accuracy: 0.6611 - val_loss: 71.1823 - val_accuracy: 0.4594\n",
      "Epoch 21/80\n",
      "1875/1875 [==============================] - 2s 1ms/step - loss: 0.8810 - accuracy: 0.6628 - val_loss: 71.3822 - val_accuracy: 0.4648\n",
      "Epoch 22/80\n",
      "1875/1875 [==============================] - 2s 1ms/step - loss: 0.8743 - accuracy: 0.6666 - val_loss: 71.4540 - val_accuracy: 0.4660\n",
      "Epoch 23/80\n",
      "1875/1875 [==============================] - 2s 1ms/step - loss: 0.8650 - accuracy: 0.6743 - val_loss: 70.6321 - val_accuracy: 0.4754\n",
      "Epoch 24/80\n",
      "1875/1875 [==============================] - 2s 1ms/step - loss: 0.8664 - accuracy: 0.6734 - val_loss: 69.6921 - val_accuracy: 0.4761\n",
      "Epoch 25/80\n",
      "1875/1875 [==============================] - 2s 1ms/step - loss: 0.8586 - accuracy: 0.6779 - val_loss: 69.9916 - val_accuracy: 0.4736\n",
      "Epoch 26/80\n",
      "1875/1875 [==============================] - 2s 1ms/step - loss: 0.8613 - accuracy: 0.6784 - val_loss: 68.2988 - val_accuracy: 0.4821\n",
      "Epoch 27/80\n",
      "1875/1875 [==============================] - 2s 1ms/step - loss: 0.8523 - accuracy: 0.6830 - val_loss: 67.6347 - val_accuracy: 0.4839\n",
      "Epoch 28/80\n",
      "1875/1875 [==============================] - 2s 1ms/step - loss: 0.8458 - accuracy: 0.6863 - val_loss: 66.7288 - val_accuracy: 0.4912\n",
      "Epoch 29/80\n",
      "1875/1875 [==============================] - 2s 1ms/step - loss: 0.8367 - accuracy: 0.6899 - val_loss: 66.1414 - val_accuracy: 0.4966\n",
      "Epoch 30/80\n",
      "1875/1875 [==============================] - 2s 1ms/step - loss: 0.8299 - accuracy: 0.6942 - val_loss: 66.7190 - val_accuracy: 0.5021\n",
      "Epoch 31/80\n",
      "1875/1875 [==============================] - 2s 1ms/step - loss: 0.8289 - accuracy: 0.6941 - val_loss: 65.4032 - val_accuracy: 0.5089\n",
      "Epoch 32/80\n",
      "1875/1875 [==============================] - 2s 1ms/step - loss: 0.8216 - accuracy: 0.6967 - val_loss: 64.1445 - val_accuracy: 0.5212\n",
      "Epoch 33/80\n",
      "1875/1875 [==============================] - 2s 1ms/step - loss: 0.8154 - accuracy: 0.6994 - val_loss: 63.6603 - val_accuracy: 0.5266\n",
      "Epoch 34/80\n",
      "1875/1875 [==============================] - 2s 1ms/step - loss: 0.8146 - accuracy: 0.6981 - val_loss: 63.0851 - val_accuracy: 0.5366\n",
      "Epoch 35/80\n",
      "1875/1875 [==============================] - 2s 1ms/step - loss: 0.8050 - accuracy: 0.7033 - val_loss: 62.4035 - val_accuracy: 0.5441\n",
      "Epoch 36/80\n",
      "1875/1875 [==============================] - 2s 1ms/step - loss: 0.8056 - accuracy: 0.7006 - val_loss: 62.3726 - val_accuracy: 0.5473\n",
      "Epoch 37/80\n",
      "1875/1875 [==============================] - 2s 1ms/step - loss: 0.7984 - accuracy: 0.7034 - val_loss: 61.5399 - val_accuracy: 0.5584\n",
      "Epoch 38/80\n",
      "1875/1875 [==============================] - 2s 1ms/step - loss: 0.7954 - accuracy: 0.7058 - val_loss: 61.1050 - val_accuracy: 0.5585\n",
      "Epoch 39/80\n",
      "1875/1875 [==============================] - 2s 1ms/step - loss: 0.7924 - accuracy: 0.7073 - val_loss: 61.3243 - val_accuracy: 0.5650\n",
      "Epoch 40/80\n",
      "1875/1875 [==============================] - 2s 1ms/step - loss: 0.7958 - accuracy: 0.7069 - val_loss: 61.5193 - val_accuracy: 0.5666\n",
      "Epoch 41/80\n",
      "1875/1875 [==============================] - 2s 1ms/step - loss: 0.7825 - accuracy: 0.7101 - val_loss: 61.8329 - val_accuracy: 0.5727\n",
      "Epoch 42/80\n",
      "1875/1875 [==============================] - 2s 1ms/step - loss: 0.7816 - accuracy: 0.7098 - val_loss: 60.6154 - val_accuracy: 0.5746\n",
      "Epoch 43/80\n",
      "1875/1875 [==============================] - 2s 1ms/step - loss: 0.7726 - accuracy: 0.7140 - val_loss: 60.9306 - val_accuracy: 0.5753\n",
      "Epoch 44/80\n",
      "1875/1875 [==============================] - 2s 1ms/step - loss: 0.7710 - accuracy: 0.7157 - val_loss: 61.6068 - val_accuracy: 0.5754\n",
      "Epoch 45/80\n",
      "1875/1875 [==============================] - 2s 1ms/step - loss: 0.7737 - accuracy: 0.7127 - val_loss: 61.9657 - val_accuracy: 0.5794\n",
      "Epoch 46/80\n",
      "1875/1875 [==============================] - 2s 1ms/step - loss: 0.7705 - accuracy: 0.7147 - val_loss: 59.5612 - val_accuracy: 0.5848\n",
      "Epoch 47/80\n",
      "1875/1875 [==============================] - 2s 1ms/step - loss: 0.7682 - accuracy: 0.7171 - val_loss: 61.3797 - val_accuracy: 0.5850\n",
      "Epoch 48/80\n",
      "1875/1875 [==============================] - 2s 1ms/step - loss: 0.7617 - accuracy: 0.7176 - val_loss: 60.4863 - val_accuracy: 0.5867\n",
      "Epoch 49/80\n",
      "1875/1875 [==============================] - 2s 1ms/step - loss: 0.7573 - accuracy: 0.7202 - val_loss: 60.2014 - val_accuracy: 0.5921\n",
      "Epoch 50/80\n",
      "1875/1875 [==============================] - 2s 1ms/step - loss: 0.7545 - accuracy: 0.7203 - val_loss: 60.7910 - val_accuracy: 0.5879\n",
      "Epoch 51/80\n",
      "1875/1875 [==============================] - 2s 1ms/step - loss: 0.7508 - accuracy: 0.7229 - val_loss: 60.1448 - val_accuracy: 0.5921\n",
      "Epoch 52/80\n",
      "1875/1875 [==============================] - 2s 1ms/step - loss: 0.7480 - accuracy: 0.7234 - val_loss: 59.0023 - val_accuracy: 0.5973\n",
      "Epoch 53/80\n",
      "1875/1875 [==============================] - 2s 1ms/step - loss: 0.7462 - accuracy: 0.7233 - val_loss: 60.4124 - val_accuracy: 0.5962\n",
      "Epoch 54/80\n",
      "1875/1875 [==============================] - 2s 1ms/step - loss: 0.7454 - accuracy: 0.7233 - val_loss: 59.3721 - val_accuracy: 0.6004\n",
      "Epoch 55/80\n",
      "1875/1875 [==============================] - 2s 1ms/step - loss: 0.7380 - accuracy: 0.7264 - val_loss: 60.3393 - val_accuracy: 0.5989\n",
      "Epoch 56/80\n",
      "1875/1875 [==============================] - 2s 1ms/step - loss: 0.7333 - accuracy: 0.7293 - val_loss: 60.0059 - val_accuracy: 0.6013\n",
      "Epoch 57/80\n"
     ]
    },
    {
     "name": "stdout",
     "output_type": "stream",
     "text": [
      "1875/1875 [==============================] - 2s 1ms/step - loss: 0.7334 - accuracy: 0.7271 - val_loss: 59.9907 - val_accuracy: 0.6039\n",
      "Epoch 58/80\n",
      "1875/1875 [==============================] - 2s 1ms/step - loss: 0.7286 - accuracy: 0.7289 - val_loss: 59.8704 - val_accuracy: 0.6045\n",
      "Epoch 59/80\n",
      "1875/1875 [==============================] - 2s 1ms/step - loss: 0.7270 - accuracy: 0.7295 - val_loss: 59.6638 - val_accuracy: 0.6065\n",
      "Epoch 60/80\n",
      "1875/1875 [==============================] - 2s 1ms/step - loss: 0.7242 - accuracy: 0.7316 - val_loss: 60.5626 - val_accuracy: 0.6066\n",
      "Epoch 61/80\n",
      "1875/1875 [==============================] - 2s 1ms/step - loss: 0.7183 - accuracy: 0.7325 - val_loss: 59.5844 - val_accuracy: 0.6057\n",
      "Epoch 62/80\n",
      "1875/1875 [==============================] - 2s 1ms/step - loss: 0.7170 - accuracy: 0.7322 - val_loss: 59.8268 - val_accuracy: 0.6089\n",
      "Epoch 63/80\n",
      "1875/1875 [==============================] - 2s 1ms/step - loss: 0.7128 - accuracy: 0.7333 - val_loss: 60.1845 - val_accuracy: 0.6097\n",
      "Epoch 64/80\n",
      "1875/1875 [==============================] - 2s 1ms/step - loss: 0.7104 - accuracy: 0.7347 - val_loss: 59.4502 - val_accuracy: 0.6103\n",
      "Epoch 65/80\n",
      "1875/1875 [==============================] - 2s 1ms/step - loss: 0.7034 - accuracy: 0.7364 - val_loss: 58.6830 - val_accuracy: 0.6117\n",
      "Epoch 66/80\n",
      "1875/1875 [==============================] - 2s 1ms/step - loss: 0.7023 - accuracy: 0.7382 - val_loss: 59.3731 - val_accuracy: 0.6118\n",
      "Epoch 67/80\n",
      "1875/1875 [==============================] - 2s 1ms/step - loss: 0.7006 - accuracy: 0.7390 - val_loss: 59.6384 - val_accuracy: 0.6122\n",
      "Epoch 68/80\n",
      "1875/1875 [==============================] - 2s 1ms/step - loss: 0.6986 - accuracy: 0.7390 - val_loss: 58.7288 - val_accuracy: 0.6121\n",
      "Epoch 69/80\n",
      "1875/1875 [==============================] - 2s 1ms/step - loss: 0.6943 - accuracy: 0.7406 - val_loss: 60.1279 - val_accuracy: 0.6128\n",
      "Epoch 70/80\n",
      "1875/1875 [==============================] - 2s 1ms/step - loss: 0.6922 - accuracy: 0.7410 - val_loss: 58.6624 - val_accuracy: 0.6176\n",
      "Epoch 71/80\n",
      "1875/1875 [==============================] - 2s 1ms/step - loss: 0.6892 - accuracy: 0.7423 - val_loss: 58.8301 - val_accuracy: 0.6168\n",
      "Epoch 72/80\n",
      "1875/1875 [==============================] - 2s 1ms/step - loss: 0.6870 - accuracy: 0.7438 - val_loss: 59.9562 - val_accuracy: 0.6148\n",
      "Epoch 73/80\n",
      "1875/1875 [==============================] - 2s 1ms/step - loss: 0.6810 - accuracy: 0.7453 - val_loss: 58.6408 - val_accuracy: 0.6146\n",
      "Epoch 74/80\n",
      "1875/1875 [==============================] - 2s 1ms/step - loss: 0.6807 - accuracy: 0.7447 - val_loss: 58.5292 - val_accuracy: 0.6194\n",
      "Epoch 75/80\n",
      "1875/1875 [==============================] - 2s 1ms/step - loss: 0.6764 - accuracy: 0.7476 - val_loss: 58.4882 - val_accuracy: 0.6194\n",
      "Epoch 76/80\n",
      "1875/1875 [==============================] - 2s 1ms/step - loss: 0.6766 - accuracy: 0.7465 - val_loss: 59.0946 - val_accuracy: 0.6181\n",
      "Epoch 77/80\n",
      "1875/1875 [==============================] - 2s 1ms/step - loss: 0.6743 - accuracy: 0.7473 - val_loss: 58.6541 - val_accuracy: 0.6209\n",
      "Epoch 78/80\n",
      "1875/1875 [==============================] - 2s 1ms/step - loss: 0.6749 - accuracy: 0.7452 - val_loss: 58.3986 - val_accuracy: 0.6202\n",
      "Epoch 79/80\n",
      "1875/1875 [==============================] - 2s 1ms/step - loss: 0.6681 - accuracy: 0.7477 - val_loss: 59.1006 - val_accuracy: 0.6194\n",
      "Epoch 80/80\n",
      "1875/1875 [==============================] - 2s 1ms/step - loss: 0.6674 - accuracy: 0.7510 - val_loss: 59.0590 - val_accuracy: 0.6191\n"
     ]
    }
   ],
   "source": [
    "history=model.fit(X_train,y_train, epochs=80,validation_data=(X_test,y_test))"
   ]
  },
  {
   "cell_type": "code",
   "execution_count": 46,
   "id": "1aa4310d",
   "metadata": {},
   "outputs": [],
   "source": [
    "import matplotlib.pyplot as plt\n"
   ]
  },
  {
   "cell_type": "code",
   "execution_count": 67,
   "id": "906f1858",
   "metadata": {},
   "outputs": [],
   "source": [
    "history_df = pd.DataFrame(history.history)\n"
   ]
  },
  {
   "cell_type": "code",
   "execution_count": 68,
   "id": "d9734445",
   "metadata": {},
   "outputs": [
    {
     "data": {
      "text/plain": [
       "<bound method NDFrame.head of         loss  accuracy   val_loss  val_accuracy\n",
       "0   0.975377  0.614067  64.728256        0.4054\n",
       "1   0.967647  0.615550  64.364792        0.4076\n",
       "2   0.965728  0.618750  64.779434        0.4103\n",
       "3   0.962803  0.619817  63.951199        0.4153\n",
       "4   0.950218  0.623567  64.451622        0.4219\n",
       "..       ...       ...        ...           ...\n",
       "75  0.676613  0.746533  59.094574        0.6181\n",
       "76  0.674343  0.747317  58.654068        0.6209\n",
       "77  0.674918  0.745250  58.398602        0.6202\n",
       "78  0.668131  0.747683  59.100624        0.6194\n",
       "79  0.667427  0.751033  59.058964        0.6191\n",
       "\n",
       "[80 rows x 4 columns]>"
      ]
     },
     "execution_count": 68,
     "metadata": {},
     "output_type": "execute_result"
    }
   ],
   "source": [
    "history_df.head"
   ]
  },
  {
   "cell_type": "code",
   "execution_count": 69,
   "id": "e9237392",
   "metadata": {},
   "outputs": [
    {
     "data": {
      "image/png": "[encoded data removed]",
      "text/plain": [
       "<Figure size 800x500 with 1 Axes>"
      ]
     },
     "metadata": {},
     "output_type": "display_data"
    }
   ],
   "source": [
    "history_df.plot(figsize=(8, 5), grid=True, xlabel=\"Epoch\", xlim=[0, 29], ylim=[0, 1], style=['r--', 'r--.', 'b-', 'b-*'])\n",
    "\n",
    "# Add labels and legend\n",
    "plt.xlabel(\"Epoch\")\n",
    "plt.ylabel(\"Value\")\n",
    "plt.legend([\"Training Loss\", \"Validation Loss\", \"Training Accuracy\", \"Validation Accuracy\"])\n",
    "\n",
    "plt.show()"
   ]
  },
  {
   "cell_type": "code",
   "execution_count": 70,
   "id": "2987a2da",
   "metadata": {},
   "outputs": [
    {
     "name": "stdout",
     "output_type": "stream",
     "text": [
      "313/313 [==============================] - 0s 856us/step - loss: 59.0590 - accuracy: 0.6191\n"
     ]
    },
    {
     "data": {
      "text/plain": [
       "[59.058963775634766, 0.6190999746322632]"
      ]
     },
     "execution_count": 70,
     "metadata": {},
     "output_type": "execute_result"
    }
   ],
   "source": [
    "model.evaluate(X_test,y_test)"
   ]
  },
  {
   "cell_type": "code",
   "execution_count": 71,
   "id": "8a3281fc",
   "metadata": {},
   "outputs": [
    {
     "name": "stdout",
     "output_type": "stream",
     "text": [
      "1/1 [==============================] - 0s 76ms/step\n"
     ]
    }
   ],
   "source": [
    "pred=model.predict(X_test[:5])"
   ]
  },
  {
   "cell_type": "code",
   "execution_count": null,
   "id": "73174d1c",
   "metadata": {},
   "outputs": [],
   "source": []
  },
  {
   "cell_type": "code",
   "execution_count": 72,
   "id": "6a69c660",
   "metadata": {},
   "outputs": [
    {
     "data": {
      "text/plain": [
       "array([[0.  , 0.  , 0.  , 0.  , 0.  , 0.  , 0.  , 0.  , 0.  , 1.  ],\n",
       "       [0.  , 0.  , 1.  , 0.  , 0.  , 0.  , 0.  , 0.  , 0.  , 0.  ],\n",
       "       [0.  , 1.  , 0.  , 0.  , 0.  , 0.  , 0.  , 0.  , 0.  , 0.  ],\n",
       "       [0.  , 1.  , 0.  , 0.  , 0.  , 0.  , 0.  , 0.  , 0.  , 0.  ],\n",
       "       [0.  , 0.  , 0.89, 0.  , 0.  , 0.  , 0.11, 0.  , 0.  , 0.  ]],\n",
       "      dtype=float32)"
      ]
     },
     "execution_count": 72,
     "metadata": {},
     "output_type": "execute_result"
    }
   ],
   "source": [
    "pred.round(2)"
   ]
  },
  {
   "cell_type": "code",
   "execution_count": null,
   "id": "842b09af",
   "metadata": {},
   "outputs": [],
   "source": []
  }
 ],
 "metadata": {
  "kernelspec": {
   "display_name": "Python 3 (ipykernel)",
   "language": "python",
   "name": "python3"
  },
  "language_info": {
   "codemirror_mode": {
    "name": "ipython",
    "version": 3
   },
   "file_extension": ".py",
   "mimetype": "text/x-python",
   "name": "python",
   "nbconvert_exporter": "python",
   "pygments_lexer": "ipython3",
   "version": "3.10.9"
  }
 },
 "nbformat": 4,
 "nbformat_minor": 5
}
