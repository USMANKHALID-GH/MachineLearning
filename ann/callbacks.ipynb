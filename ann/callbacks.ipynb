{
 "cells": [
  {
   "cell_type": "code",
   "execution_count": 1,
   "id": "6c5c9d04",
   "metadata": {},
   "outputs": [],
   "source": [
    "import tensorflow as tf\n",
    "import tensorflow.keras as tfk\n",
    "from sklearn.pipeline import make_pipeline\n",
    "from sklearn.preprocessing import StandardScaler\n",
    "from sklearn.datasets import fetch_california_housing\n",
    "import numpy as np\n",
    "import pandas as pd\n",
    "from sklearn.metrics import mean_squared_error\n",
    "from sklearn.neural_network import MLPRegressor\n",
    "from sklearn.preprocessing import StandardScaler\n",
    "from sklearn.model_selection import train_test_split\n",
    "from sklearn.pipeline import make_pipeline"
   ]
  },
  {
   "cell_type": "code",
   "execution_count": 2,
   "id": "ed8f4d40",
   "metadata": {},
   "outputs": [],
   "source": [
    "dataset=fetch_california_housing(as_frame=True)"
   ]
  },
  {
   "cell_type": "code",
   "execution_count": 3,
   "id": "bf3fbb38",
   "metadata": {},
   "outputs": [],
   "source": [
    "df=dataset.frame\n",
    "y=df.MedHouseVal\n",
    "df.drop(columns=\"MedHouseVal\", inplace=True, axis=1 )\n",
    "X=df"
   ]
  },
  {
   "cell_type": "code",
   "execution_count": 4,
   "id": "1271e931",
   "metadata": {},
   "outputs": [],
   "source": [
    "X_train, X_test, y_train, y_test = train_test_split(X, y, random_state=42, shuffle=True, test_size=0.2)"
   ]
  },
  {
   "cell_type": "code",
   "execution_count": 5,
   "id": "dd2bbade",
   "metadata": {},
   "outputs": [],
   "source": [
    "tf.random.set_seed=42\n",
    "norm_layers=tfk.layers.Normalization(input_shape=X_train.shape[1:])"
   ]
  },
  {
   "cell_type": "code",
   "execution_count": 6,
   "id": "26bd71eb",
   "metadata": {},
   "outputs": [],
   "source": [
    "input_=tfk.layers.Input(shape=X_train.shape[1:])\n",
    "normalize=tfk.layers.Normalization()(input_)\n",
    "hidden_layer1=tfk.layers.Dense(120,activation=\"relu\")(normalize)\n",
    "hidden_layer2=tfk.layers.Dense(120,activation=\"relu\")(hidden_layer1)\n",
    "hidden_layer3=tfk.layers.Dense(120,activation=\"relu\")(hidden_layer2)\n",
    "hidden_layers3=hidden_layer1=tfk.layers.Dense(120,activation=\"relu\")(hidden_layer3)\n",
    "concat=tfk.layers.concatenate([normalize,hidden_layers3])\n",
    "output=tfk.layers.Dense(1)(concat)\n",
    "model=tfk.Model(inputs=[input_],outputs=[output])"
   ]
  },
  {
   "cell_type": "markdown",
   "id": "ccb6a546",
   "metadata": {},
   "source": [
    "# callbacks and tensorboard"
   ]
  },
  {
   "cell_type": "code",
   "execution_count": 12,
   "id": "f6f27fcd",
   "metadata": {},
   "outputs": [],
   "source": [
    "best_mode_cb=tfk.callbacks.ModelCheckpoint(\"mycheckPoint\",save_best_only=True)\n",
    "early_stoping_cb=tfk.callbacks.EarlyStopping(patience=4,restore_best_weights=True)\n",
    "tensorborad_=tfk.callbacks.TensorBoard(\"log/callbacks/\",profile_batch=(100,200))"
   ]
  },
  {
   "cell_type": "code",
   "execution_count": 9,
   "id": "0a265f7d",
   "metadata": {},
   "outputs": [],
   "source": [
    "model.compile(\n",
    "    loss=\"mse\",\n",
    "    optimizer=tfk.optimizers.Adam(learning_rate=1e-3),\n",
    "    metrics=[\"RootMeanSquaredError\"]\n",
    ")\n"
   ]
  },
  {
   "cell_type": "code",
   "execution_count": 13,
   "id": "41730388",
   "metadata": {},
   "outputs": [
    {
     "name": "stdout",
     "output_type": "stream",
     "text": [
      "Epoch 1/50\n",
      "515/516 [============================>.] - ETA: 0s - loss: 1.4785 - root_mean_squared_error: 1.2159INFO:tensorflow:Assets written to: mycheckPoint\\assets\n"
     ]
    },
    {
     "name": "stderr",
     "output_type": "stream",
     "text": [
      "INFO:tensorflow:Assets written to: mycheckPoint\\assets\n"
     ]
    },
    {
     "name": "stdout",
     "output_type": "stream",
     "text": [
      "516/516 [==============================] - 1s 3ms/step - loss: 1.4781 - root_mean_squared_error: 1.2158 - val_loss: 1.0112 - val_root_mean_squared_error: 1.0056\n",
      "Epoch 2/50\n",
      "516/516 [==============================] - 1s 1ms/step - loss: 1.3482 - root_mean_squared_error: 1.1611 - val_loss: 2.2359 - val_root_mean_squared_error: 1.4953\n",
      "Epoch 3/50\n",
      "498/516 [===========================>..] - ETA: 0s - loss: 1.3259 - root_mean_squared_error: 1.1515INFO:tensorflow:Assets written to: mycheckPoint\\assets\n"
     ]
    },
    {
     "name": "stderr",
     "output_type": "stream",
     "text": [
      "INFO:tensorflow:Assets written to: mycheckPoint\\assets\n"
     ]
    },
    {
     "name": "stdout",
     "output_type": "stream",
     "text": [
      "516/516 [==============================] - 1s 3ms/step - loss: 1.3116 - root_mean_squared_error: 1.1453 - val_loss: 0.8497 - val_root_mean_squared_error: 0.9218\n",
      "Epoch 4/50\n",
      "516/516 [==============================] - 1s 1ms/step - loss: 33.8736 - root_mean_squared_error: 5.8201 - val_loss: 1.2616 - val_root_mean_squared_error: 1.1232\n",
      "Epoch 5/50\n",
      "516/516 [==============================] - 1s 1ms/step - loss: 14.2039 - root_mean_squared_error: 3.7688 - val_loss: 0.9403 - val_root_mean_squared_error: 0.9697\n",
      "Epoch 6/50\n",
      "480/516 [==========================>...] - ETA: 0s - loss: 33.9295 - root_mean_squared_error: 5.8249INFO:tensorflow:Assets written to: mycheckPoint\\assets\n"
     ]
    },
    {
     "name": "stderr",
     "output_type": "stream",
     "text": [
      "INFO:tensorflow:Assets written to: mycheckPoint\\assets\n"
     ]
    },
    {
     "name": "stdout",
     "output_type": "stream",
     "text": [
      "516/516 [==============================] - 1s 3ms/step - loss: 31.6368 - root_mean_squared_error: 5.6247 - val_loss: 0.8376 - val_root_mean_squared_error: 0.9152\n",
      "Epoch 7/50\n",
      "516/516 [==============================] - 1s 1ms/step - loss: 6.5131 - root_mean_squared_error: 2.5521 - val_loss: 0.9026 - val_root_mean_squared_error: 0.9501\n",
      "Epoch 8/50\n",
      "516/516 [==============================] - 1s 1ms/step - loss: 3.7104 - root_mean_squared_error: 1.9262 - val_loss: 50.3695 - val_root_mean_squared_error: 7.0971\n",
      "Epoch 9/50\n",
      "478/516 [==========================>...] - ETA: 0s - loss: 14.8823 - root_mean_squared_error: 3.8578INFO:tensorflow:Assets written to: mycheckPoint\\assets\n"
     ]
    },
    {
     "name": "stderr",
     "output_type": "stream",
     "text": [
      "INFO:tensorflow:Assets written to: mycheckPoint\\assets\n"
     ]
    },
    {
     "name": "stdout",
     "output_type": "stream",
     "text": [
      "516/516 [==============================] - 1s 3ms/step - loss: 13.8580 - root_mean_squared_error: 3.7226 - val_loss: 0.8272 - val_root_mean_squared_error: 0.9095\n",
      "Epoch 10/50\n",
      "506/516 [============================>.] - ETA: 0s - loss: 19.4589 - root_mean_squared_error: 4.4112INFO:tensorflow:Assets written to: mycheckPoint\\assets\n"
     ]
    },
    {
     "name": "stderr",
     "output_type": "stream",
     "text": [
      "INFO:tensorflow:Assets written to: mycheckPoint\\assets\n"
     ]
    },
    {
     "name": "stdout",
     "output_type": "stream",
     "text": [
      "516/516 [==============================] - 1s 3ms/step - loss: 19.1057 - root_mean_squared_error: 4.3710 - val_loss: 0.7981 - val_root_mean_squared_error: 0.8933\n",
      "Epoch 11/50\n",
      "516/516 [==============================] - 1s 1ms/step - loss: 3.8266 - root_mean_squared_error: 1.9562 - val_loss: 1.3723 - val_root_mean_squared_error: 1.1714\n",
      "Epoch 12/50\n",
      "516/516 [==============================] - 1s 1ms/step - loss: 49.8920 - root_mean_squared_error: 7.0634 - val_loss: 13.7712 - val_root_mean_squared_error: 3.7110\n",
      "Epoch 13/50\n",
      "479/516 [==========================>...] - ETA: 0s - loss: 1.3368 - root_mean_squared_error: 1.1562INFO:tensorflow:Assets written to: mycheckPoint\\assets\n"
     ]
    },
    {
     "name": "stderr",
     "output_type": "stream",
     "text": [
      "INFO:tensorflow:Assets written to: mycheckPoint\\assets\n"
     ]
    },
    {
     "name": "stdout",
     "output_type": "stream",
     "text": [
      "516/516 [==============================] - 1s 3ms/step - loss: 1.3541 - root_mean_squared_error: 1.1636 - val_loss: 0.7622 - val_root_mean_squared_error: 0.8731\n",
      "Epoch 14/50\n",
      "513/516 [============================>.] - ETA: 0s - loss: 4.1554 - root_mean_squared_error: 2.0385INFO:tensorflow:Assets written to: mycheckPoint\\assets\n"
     ]
    },
    {
     "name": "stderr",
     "output_type": "stream",
     "text": [
      "INFO:tensorflow:Assets written to: mycheckPoint\\assets\n"
     ]
    },
    {
     "name": "stdout",
     "output_type": "stream",
     "text": [
      "516/516 [==============================] - 2s 3ms/step - loss: 4.1341 - root_mean_squared_error: 2.0332 - val_loss: 0.7561 - val_root_mean_squared_error: 0.8695\n",
      "Epoch 15/50\n",
      "516/516 [==============================] - 1s 2ms/step - loss: 8.8894 - root_mean_squared_error: 2.9815 - val_loss: 2.4508 - val_root_mean_squared_error: 1.5655\n",
      "Epoch 16/50\n",
      "516/516 [==============================] - 1s 2ms/step - loss: 10.9626 - root_mean_squared_error: 3.3110 - val_loss: 0.7625 - val_root_mean_squared_error: 0.8732\n",
      "Epoch 17/50\n",
      "516/516 [==============================] - ETA: 0s - loss: 1.3699 - root_mean_squared_error: 1.1704INFO:tensorflow:Assets written to: mycheckPoint\\assets\n"
     ]
    },
    {
     "name": "stderr",
     "output_type": "stream",
     "text": [
      "INFO:tensorflow:Assets written to: mycheckPoint\\assets\n"
     ]
    },
    {
     "name": "stdout",
     "output_type": "stream",
     "text": [
      "516/516 [==============================] - 1s 3ms/step - loss: 1.3699 - root_mean_squared_error: 1.1704 - val_loss: 0.6854 - val_root_mean_squared_error: 0.8279\n",
      "Epoch 18/50\n",
      "516/516 [==============================] - 1s 1ms/step - loss: 9.3398 - root_mean_squared_error: 3.0561 - val_loss: 1.0374 - val_root_mean_squared_error: 1.0185\n",
      "Epoch 19/50\n",
      "516/516 [==============================] - 1s 1ms/step - loss: 4.8705 - root_mean_squared_error: 2.2069 - val_loss: 4.7949 - val_root_mean_squared_error: 2.1897\n",
      "Epoch 20/50\n",
      "516/516 [==============================] - 1s 1ms/step - loss: 1.3416 - root_mean_squared_error: 1.1583 - val_loss: 0.7480 - val_root_mean_squared_error: 0.8649\n",
      "Epoch 21/50\n",
      "516/516 [==============================] - 1s 1ms/step - loss: 2.1436 - root_mean_squared_error: 1.4641 - val_loss: 0.7349 - val_root_mean_squared_error: 0.8573\n"
     ]
    }
   ],
   "source": [
    "norm_layers.adapt(X_train)\n",
    "history=model.fit(X_train,y_train, epochs=50,validation_data=(X_test,y_test),callbacks=[best_mode_cb,early_stoping_cb,tensorborad_])"
   ]
  },
  {
   "cell_type": "code",
   "execution_count": 16,
   "id": "628ebfa4",
   "metadata": {},
   "outputs": [],
   "source": [
    "from tensorflow.keras.callbacks import TensorBoard\n",
    "%load_ext tensorboard\n"
   ]
  },
  {
   "cell_type": "code",
   "execution_count": 17,
   "id": "6cd893a3",
   "metadata": {},
   "outputs": [
    {
     "data": {
      "text/html": [
       "\n",
       "      <iframe id=\"tensorboard-frame-da2620c63fcbd878\" width=\"100%\" height=\"800\" frameborder=\"0\">\n",
       "      </iframe>\n",
       "      <script>\n",
       "        (function() {\n",
       "          const frame = document.getElementById(\"tensorboard-frame-da2620c63fcbd878\");\n",
       "          const url = new URL(\"/\", window.location);\n",
       "          const port = 6006;\n",
       "          if (port) {\n",
       "            url.port = port;\n",
       "          }\n",
       "          frame.src = url;\n",
       "        })();\n",
       "      </script>\n",
       "    "
      ],
      "text/plain": [
       "<IPython.core.display.HTML object>"
      ]
     },
     "metadata": {},
     "output_type": "display_data"
    }
   ],
   "source": [
    "%tensorboard --logdir=./log/callbacks/"
   ]
  },
  {
   "cell_type": "code",
   "execution_count": null,
   "id": "8b006a1d",
   "metadata": {},
   "outputs": [],
   "source": []
  }
 ],
 "metadata": {
  "kernelspec": {
   "display_name": "Python 3 (ipykernel)",
   "language": "python",
   "name": "python3"
  },
  "language_info": {
   "codemirror_mode": {
    "name": "ipython",
    "version": 3
   },
   "file_extension": ".py",
   "mimetype": "text/x-python",
   "name": "python",
   "nbconvert_exporter": "python",
   "pygments_lexer": "ipython3",
   "version": "3.10.9"
  }
 },
 "nbformat": 4,
 "nbformat_minor": 5
}
