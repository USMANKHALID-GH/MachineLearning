{
 "cells": [
  {
   "cell_type": "code",
   "execution_count": 1,
   "id": "2ca461d3",
   "metadata": {},
   "outputs": [],
   "source": [
    "import numpy as np\n",
    "import pandas as pd\n",
    "from sklearn.cluster import KMeans,MiniBatchKMeans,DBSCAN\n",
    "from sklearn.datasets import make_blobs,load_digits,make_moons\n",
    "from sklearn.linear_model import LogisticRegression"
   ]
  },
  {
   "cell_type": "code",
   "execution_count": 2,
   "id": "118c9daf",
   "metadata": {},
   "outputs": [
    {
     "data": {
      "text/html": [
       "<style>#sk-container-id-1 {color: black;}#sk-container-id-1 pre{padding: 0;}#sk-container-id-1 div.sk-toggleable {background-color: white;}#sk-container-id-1 label.sk-toggleable__label {cursor: pointer;display: block;width: 100%;margin-bottom: 0;padding: 0.3em;box-sizing: border-box;text-align: center;}#sk-container-id-1 label.sk-toggleable__label-arrow:before {content: \"▸\";float: left;margin-right: 0.25em;color: #696969;}#sk-container-id-1 label.sk-toggleable__label-arrow:hover:before {color: black;}#sk-container-id-1 div.sk-estimator:hover label.sk-toggleable__label-arrow:before {color: black;}#sk-container-id-1 div.sk-toggleable__content {max-height: 0;max-width: 0;overflow: hidden;text-align: left;background-color: #f0f8ff;}#sk-container-id-1 div.sk-toggleable__content pre {margin: 0.2em;color: black;border-radius: 0.25em;background-color: #f0f8ff;}#sk-container-id-1 input.sk-toggleable__control:checked~div.sk-toggleable__content {max-height: 200px;max-width: 100%;overflow: auto;}#sk-container-id-1 input.sk-toggleable__control:checked~label.sk-toggleable__label-arrow:before {content: \"▾\";}#sk-container-id-1 div.sk-estimator input.sk-toggleable__control:checked~label.sk-toggleable__label {background-color: #d4ebff;}#sk-container-id-1 div.sk-label input.sk-toggleable__control:checked~label.sk-toggleable__label {background-color: #d4ebff;}#sk-container-id-1 input.sk-hidden--visually {border: 0;clip: rect(1px 1px 1px 1px);clip: rect(1px, 1px, 1px, 1px);height: 1px;margin: -1px;overflow: hidden;padding: 0;position: absolute;width: 1px;}#sk-container-id-1 div.sk-estimator {font-family: monospace;background-color: #f0f8ff;border: 1px dotted black;border-radius: 0.25em;box-sizing: border-box;margin-bottom: 0.5em;}#sk-container-id-1 div.sk-estimator:hover {background-color: #d4ebff;}#sk-container-id-1 div.sk-parallel-item::after {content: \"\";width: 100%;border-bottom: 1px solid gray;flex-grow: 1;}#sk-container-id-1 div.sk-label:hover label.sk-toggleable__label {background-color: #d4ebff;}#sk-container-id-1 div.sk-serial::before {content: \"\";position: absolute;border-left: 1px solid gray;box-sizing: border-box;top: 0;bottom: 0;left: 50%;z-index: 0;}#sk-container-id-1 div.sk-serial {display: flex;flex-direction: column;align-items: center;background-color: white;padding-right: 0.2em;padding-left: 0.2em;position: relative;}#sk-container-id-1 div.sk-item {position: relative;z-index: 1;}#sk-container-id-1 div.sk-parallel {display: flex;align-items: stretch;justify-content: center;background-color: white;position: relative;}#sk-container-id-1 div.sk-item::before, #sk-container-id-1 div.sk-parallel-item::before {content: \"\";position: absolute;border-left: 1px solid gray;box-sizing: border-box;top: 0;bottom: 0;left: 50%;z-index: -1;}#sk-container-id-1 div.sk-parallel-item {display: flex;flex-direction: column;z-index: 1;position: relative;background-color: white;}#sk-container-id-1 div.sk-parallel-item:first-child::after {align-self: flex-end;width: 50%;}#sk-container-id-1 div.sk-parallel-item:last-child::after {align-self: flex-start;width: 50%;}#sk-container-id-1 div.sk-parallel-item:only-child::after {width: 0;}#sk-container-id-1 div.sk-dashed-wrapped {border: 1px dashed gray;margin: 0 0.4em 0.5em 0.4em;box-sizing: border-box;padding-bottom: 0.4em;background-color: white;}#sk-container-id-1 div.sk-label label {font-family: monospace;font-weight: bold;display: inline-block;line-height: 1.2em;}#sk-container-id-1 div.sk-label-container {text-align: center;}#sk-container-id-1 div.sk-container {/* jupyter's `normalize.less` sets `[hidden] { display: none; }` but bootstrap.min.css set `[hidden] { display: none !important; }` so we also need the `!important` here to be able to override the default hidden behavior on the sphinx rendered scikit-learn.org. See: https://github.com/scikit-learn/scikit-learn/issues/21755 */display: inline-block !important;position: relative;}#sk-container-id-1 div.sk-text-repr-fallback {display: none;}</style><div id=\"sk-container-id-1\" class=\"sk-top-container\"><div class=\"sk-text-repr-fallback\"><pre>DBSCAN(eps=0.05)</pre><b>In a Jupyter environment, please rerun this cell to show the HTML representation or trust the notebook. <br />On GitHub, the HTML representation is unable to render, please try loading this page with nbviewer.org.</b></div><div class=\"sk-container\" hidden><div class=\"sk-item\"><div class=\"sk-estimator sk-toggleable\"><input class=\"sk-toggleable__control sk-hidden--visually\" id=\"sk-estimator-id-1\" type=\"checkbox\" checked><label for=\"sk-estimator-id-1\" class=\"sk-toggleable__label sk-toggleable__label-arrow\">DBSCAN</label><div class=\"sk-toggleable__content\"><pre>DBSCAN(eps=0.05)</pre></div></div></div></div></div>"
      ],
      "text/plain": [
       "DBSCAN(eps=0.05)"
      ]
     },
     "execution_count": 2,
     "metadata": {},
     "output_type": "execute_result"
    }
   ],
   "source": [
    "X,y=make_moons(n_samples=1000,noise=0.05)\n",
    "dbscan=DBSCAN(eps=0.05,min_samples=5)\n",
    "dbscan.fit(X)"
   ]
  },
  {
   "cell_type": "code",
   "execution_count": 3,
   "id": "08307def",
   "metadata": {},
   "outputs": [
    {
     "data": {
      "text/plain": [
       "array([ 0,  1, -1,  1,  2,  0,  3,  0,  4,  1, -1,  5,  0,  0,  4,  0,  1,\n",
       "        4,  5, -1,  4,  5,  6, -1,  7,  6,  7,  1,  6, -1,  0,  6,  0,  0,\n",
       "        6,  5,  7,  3,  1,  1,  3,  1,  0,  1,  0,  2,  1, -1, -1,  6,  1,\n",
       "        5, -1,  0,  0,  1, -1,  1,  1, -1,  4,  1,  7,  3,  0,  0,  0,  1,\n",
       "        4,  0,  8,  0, -1,  4,  5, -1,  4,  0,  3,  1,  1,  6, -1,  1,  4,\n",
       "        1,  0,  4,  2,  0,  0,  3, -1,  0,  0,  0,  5,  1,  5,  1,  5,  3,\n",
       "        0,  0,  0,  0,  0,  5,  0,  1,  7,  4,  1,  1,  1,  1,  0,  1,  0,\n",
       "        4,  1,  1,  1,  4,  6,  0,  0,  0,  6,  4,  1,  4,  1,  4,  3,  3,\n",
       "        3,  0,  5,  4,  0,  0,  5,  1,  6,  1,  1,  1,  9,  3,  0,  0,  3,\n",
       "        1,  1, -1,  0,  1,  5,  8,  4,  0, -1,  6,  0,  0,  0,  7,  6,  6,\n",
       "        1,  1,  3,  1,  1,  8,  0,  3,  7,  3,  7,  3,  5,  6, -1,  0,  0,\n",
       "        0,  0,  6,  1,  4,  3,  3, -1, -1,  2,  0,  0,  7,  1,  1, -1,  6,\n",
       "        1,  1,  0, -1,  4,  0, -1,  1,  1,  1,  0,  1,  0,  0,  6,  3,  1,\n",
       "        1,  4, -1,  5,  6,  1,  0,  6,  0,  2,  5,  0,  1,  1,  1,  1,  1,\n",
       "        0,  0,  3,  0,  1,  0,  3,  0,  3, -1,  1,  0,  1,  1,  0,  0,  0,\n",
       "        1, -1,  1,  0,  3,  0,  2,  4, -1,  1,  4,  1,  1,  6,  4,  5,  3,\n",
       "        3,  3,  4,  8,  0,  1,  8,  1,  2,  0,  3, -1, -1,  1,  6,  0,  1,\n",
       "        4, -1,  1,  7,  0,  8,  1,  1,  3,  1,  8,  1,  0,  0,  5,  0,  0,\n",
       "        1, -1,  1,  1,  7,  3,  1,  5,  0,  1,  4,  0,  0,  1,  0,  4,  5,\n",
       "        0,  0,  0, -1,  0,  1,  1,  5,  1,  6,  1,  4,  1,  0,  0,  0,  4,\n",
       "        1,  0,  4,  4,  3,  3, -1,  1,  4,  0,  1,  1,  7,  3,  2,  1,  1,\n",
       "        6,  6,  3,  1,  9,  1, -1,  0,  1,  0,  1,  4,  1,  1,  1,  1,  1,\n",
       "        0,  0,  3,  1,  1,  8,  0,  0,  5,  2,  3, -1,  5,  4,  1,  4,  0,\n",
       "        2,  5,  7,  1,  0,  0,  0,  0,  1,  1, -1,  5,  4, -1,  1,  7,  4,\n",
       "        0,  4,  2,  0,  4,  2, -1,  5,  0,  1,  1,  0,  3,  0,  0, -1,  0,\n",
       "       -1,  6,  4,  1,  1,  0,  1,  7,  3,  1,  0,  5,  1,  1,  6,  5,  3,\n",
       "        5,  8,  0,  5,  4,  3,  6,  0,  0,  1,  1,  1,  1,  3,  4,  6,  1,\n",
       "       -1,  6,  1,  1,  7,  3,  4,  1, -1,  6,  3,  3,  4,  0,  0,  0,  0,\n",
       "        0,  1,  0, -1,  0,  0, -1,  3,  1,  1,  1,  7,  4,  6, -1,  1, -1,\n",
       "        1,  4,  3, -1,  5,  1,  0,  4,  6,  1,  4,  1, -1,  0,  0,  6,  1,\n",
       "        4,  0,  1, -1,  6,  0,  1,  1,  7,  0,  0, -1,  0,  0,  9,  4,  0,\n",
       "        0,  1,  4,  3,  4, -1,  3,  6,  1,  1,  5,  1,  0,  1,  0,  4,  1,\n",
       "        1,  1,  1,  0,  0,  0,  0, -1,  1,  3,  1,  6,  4,  2,  1,  3,  4,\n",
       "        1,  1,  5,  1,  5,  3,  1,  0,  0,  0, -1,  1,  0,  0,  0,  2,  0,\n",
       "        1,  4,  6,  3,  1,  1,  9,  1,  1,  0,  0,  1,  1,  1,  4,  5,  5,\n",
       "        1,  0,  0,  5,  0,  1,  3,  7,  1,  1,  0,  2,  0,  1,  7,  3,  4,\n",
       "       -1,  4,  1,  6,  6,  1,  1,  1,  0,  5,  0,  3,  1,  1,  0,  4,  2,\n",
       "        0,  1,  0, -1,  1,  1,  4,  2,  0,  0, -1,  0,  4,  5,  0,  1,  6,\n",
       "        6,  3,  0,  2,  1,  6, -1,  3,  1,  0, -1,  3,  1,  0,  0,  8,  1,\n",
       "       -1,  6, -1,  0, -1,  0,  0,  6,  4,  0,  1,  0,  1,  0,  3,  0,  1,\n",
       "        4,  1,  0,  1, -1,  1,  1,  5,  0,  0,  0,  3, -1, -1,  0,  4, -1,\n",
       "        0, -1,  4,  0,  1,  4, -1,  0,  6,  0,  6,  1,  3,  0,  0,  6,  2,\n",
       "       -1,  3,  7,  0,  4,  0, -1,  1,  6,  0, -1,  1,  6,  4,  4,  5,  3,\n",
       "       -1,  0,  6,  1,  1,  4,  6,  5,  5,  3,  0,  5,  1,  3,  1,  5,  2,\n",
       "        6,  5,  1,  2,  3,  1,  5, -1,  4,  1,  7,  1,  4, -1,  0,  1,  0,\n",
       "        6,  3,  1,  4,  4,  1,  4,  0,  1,  0,  1,  0,  0,  1,  4,  1,  6,\n",
       "        7,  4,  0,  4,  6, -1,  0,  0,  1,  7,  4,  0,  6,  6,  3,  0,  4,\n",
       "        1,  0,  0,  1,  1,  1,  3,  4,  5,  3,  0,  3,  4,  0,  3,  3,  1,\n",
       "       -1,  1,  0,  0,  3,  7,  1,  1,  6,  0,  3,  7,  1,  1,  4,  5,  4,\n",
       "        1, -1,  1,  4,  4,  1,  4,  6,  5,  0, -1,  4,  3,  0,  0,  0,  4,\n",
       "        7,  4,  3,  0,  2,  5,  8,  2,  1,  4,  0,  6,  1,  0,  6,  1,  1,\n",
       "        2,  0,  0,  0,  6,  0,  5, -1,  1,  6,  1,  1,  4,  1,  1,  1, -1,\n",
       "        1,  0,  0,  1,  0,  1,  0,  0,  4,  0,  7,  4,  2,  0,  7,  0,  0,\n",
       "        0,  5,  4,  0,  3, -1,  0,  1,  3,  0,  3,  1,  4,  1,  0,  1,  1,\n",
       "        0,  0,  4,  1,  1,  6,  2,  4,  1,  1,  6,  8,  0,  0,  1,  0,  6,\n",
       "        0,  1,  3,  4,  4,  5, -1,  6,  1,  0,  6,  1,  0,  3,  5,  6,  0,\n",
       "        1, -1,  0,  1, -1,  2,  1,  2,  0,  6,  1,  3,  0,  5,  0,  0,  4,\n",
       "        1,  7,  8,  1,  4,  0,  1,  1,  0,  0, -1,  4,  1,  5,  0, -1,  1,\n",
       "        1,  3,  6,  3,  5,  1,  4,  1,  0,  6,  1,  1,  1,  0],\n",
       "      dtype=int64)"
      ]
     },
     "execution_count": 3,
     "metadata": {},
     "output_type": "execute_result"
    }
   ],
   "source": [
    "dbscan.labels_"
   ]
  },
  {
   "cell_type": "code",
   "execution_count": 4,
   "id": "d7536dfe",
   "metadata": {},
   "outputs": [
    {
     "data": {
      "text/plain": [
       "array([  0,   1,   3,   4,   6,   7,   8,   9,  11,  12,  13,  14,  15,\n",
       "        17,  18,  20,  21,  22,  24,  25,  26,  27,  28,  30,  32,  33,\n",
       "        34,  35,  36,  37,  38,  39,  40,  41,  42,  43,  45,  46,  49,\n",
       "        50,  54,  55,  57,  58,  61,  62,  63,  64,  65,  66,  67,  68,\n",
       "        69,  70,  71,  73,  74,  76,  77,  78,  79,  80,  81,  83,  84,\n",
       "        85,  86,  87,  88,  89,  90,  91,  93,  94,  95,  96,  97,  99,\n",
       "       100, 101, 102, 103, 104, 105, 106, 108, 109, 110, 111, 112, 114,\n",
       "       115, 116, 117, 118, 119, 121, 123, 124, 125, 126, 128, 129, 130,\n",
       "       131, 132, 134, 135, 136, 137, 138, 139, 140, 141, 142, 143, 144,\n",
       "       145, 146, 147, 148, 149, 150, 152, 153, 154, 157, 158, 159, 160,\n",
       "       161, 164, 165, 166, 167, 168, 169, 170, 171, 172, 173, 174, 175,\n",
       "       176, 177, 178, 179, 180, 181, 182, 183, 185, 186, 187, 188, 189,\n",
       "       190, 191, 192, 193, 196, 197, 198, 199, 200, 201, 203, 204, 205,\n",
       "       206, 209, 211, 212, 213, 214, 216, 218, 219, 220, 221, 224, 225,\n",
       "       227, 228, 229, 230, 231, 232, 233, 234, 235, 237, 238, 239, 242,\n",
       "       244, 246, 249, 250, 252, 253, 254, 255, 257, 258, 259, 261, 262,\n",
       "       264, 265, 266, 267, 268, 269, 270, 271, 272, 273, 274, 275, 276,\n",
       "       277, 278, 280, 281, 282, 287, 288, 289, 291, 292, 293, 295, 296,\n",
       "       297, 298, 299, 300, 301, 302, 303, 304, 305, 306, 308, 309, 311,\n",
       "       312, 313, 314, 315, 316, 317, 318, 319, 320, 321, 322, 323, 324,\n",
       "       325, 327, 328, 329, 330, 331, 332, 333, 334, 335, 336, 337, 338,\n",
       "       339, 341, 344, 345, 347, 348, 349, 350, 351, 352, 353, 355, 356,\n",
       "       357, 358, 360, 362, 364, 366, 367, 369, 370, 371, 372, 374, 375,\n",
       "       376, 377, 378, 379, 380, 381, 383, 384, 386, 387, 389, 391, 393,\n",
       "       394, 395, 396, 397, 398, 399, 400, 402, 403, 405, 406, 407, 408,\n",
       "       409, 411, 412, 415, 416, 417, 418, 419, 421, 422, 424, 426, 427,\n",
       "       428, 429, 430, 431, 432, 434, 435, 436, 437, 438, 439, 440, 442,\n",
       "       444, 445, 446, 447, 448, 449, 450, 451, 452, 453, 454, 456, 457,\n",
       "       460, 461, 462, 463, 464, 465, 466, 468, 469, 470, 471, 472, 473,\n",
       "       474, 475, 476, 477, 478, 480, 483, 484, 485, 486, 487, 488, 489,\n",
       "       491, 493, 494, 497, 498, 499, 500, 501, 503, 504, 506, 507, 508,\n",
       "       509, 510, 511, 512, 514, 515, 516, 517, 518, 519, 520, 522, 523,\n",
       "       525, 526, 527, 528, 530, 531, 535, 536, 537, 538, 539, 540, 541,\n",
       "       542, 543, 544, 545, 546, 547, 549, 550, 552, 553, 554, 555, 556,\n",
       "       557, 558, 559, 560, 561, 562, 563, 564, 566, 570, 572, 573, 574,\n",
       "       575, 576, 577, 578, 579, 580, 581, 582, 583, 586, 587, 589, 590,\n",
       "       591, 592, 593, 594, 596, 597, 599, 600, 601, 602, 604, 605, 606,\n",
       "       607, 608, 610, 611, 614, 616, 617, 618, 619, 620, 621, 622, 624,\n",
       "       625, 626, 627, 628, 629, 630, 631, 633, 634, 635, 636, 637, 640,\n",
       "       641, 643, 644, 646, 647, 648, 649, 650, 651, 653, 654, 655, 657,\n",
       "       658, 659, 660, 662, 664, 666, 668, 669, 670, 672, 673, 674, 675,\n",
       "       676, 678, 679, 680, 681, 682, 683, 685, 686, 687, 688, 689, 690,\n",
       "       691, 694, 695, 697, 699, 700, 701, 702, 705, 706, 707, 708, 709,\n",
       "       710, 711, 712, 715, 716, 717, 718, 719, 721, 722, 723, 725, 726,\n",
       "       727, 728, 730, 732, 733, 734, 735, 736, 738, 739, 740, 741, 742,\n",
       "       743, 744, 745, 746, 747, 748, 749, 750, 751, 752, 753, 754, 756,\n",
       "       757, 758, 760, 762, 763, 764, 766, 767, 768, 769, 770, 771, 772,\n",
       "       773, 774, 775, 776, 777, 778, 779, 780, 781, 782, 784, 785, 786,\n",
       "       788, 789, 790, 791, 792, 793, 794, 795, 796, 798, 800, 802, 803,\n",
       "       804, 805, 806, 807, 808, 809, 810, 811, 812, 813, 814, 815, 817,\n",
       "       818, 819, 820, 821, 822, 823, 824, 825, 826, 827, 828, 829, 830,\n",
       "       831, 832, 833, 837, 838, 839, 840, 841, 842, 846, 847, 849, 850,\n",
       "       851, 853, 854, 855, 856, 857, 858, 859, 860, 861, 862, 864, 865,\n",
       "       866, 867, 868, 869, 870, 871, 873, 875, 878, 879, 880, 881, 882,\n",
       "       884, 885, 886, 887, 888, 889, 890, 895, 896, 897, 898, 899, 900,\n",
       "       901, 902, 903, 904, 905, 907, 910, 911, 912, 914, 915, 916, 917,\n",
       "       918, 920, 921, 922, 923, 924, 925, 926, 928, 929, 930, 931, 932,\n",
       "       933, 935, 936, 937, 939, 942, 943, 944, 945, 946, 948, 949, 950,\n",
       "       951, 952, 954, 955, 958, 959, 960, 961, 963, 964, 965, 966, 969,\n",
       "       970, 971, 972, 973, 974, 975, 976, 977, 978, 981, 983, 985, 987,\n",
       "       988, 989, 990, 992, 993, 994, 995, 996, 997, 998, 999], dtype=int64)"
      ]
     },
     "execution_count": 4,
     "metadata": {},
     "output_type": "execute_result"
    }
   ],
   "source": [
    "dbscan.core_sample_indices_"
   ]
  },
  {
   "cell_type": "code",
   "execution_count": 5,
   "id": "69b5e180",
   "metadata": {},
   "outputs": [
    {
     "data": {
      "text/plain": [
       "array([[ 0.22685141, -0.1218268 ],\n",
       "       [-0.92005848,  0.46466411],\n",
       "       [-0.32955667,  0.9299162 ],\n",
       "       ...,\n",
       "       [-0.23663375,  0.97181823],\n",
       "       [-0.56339964,  0.82943208],\n",
       "       [ 0.95320165, -0.5188387 ]])"
      ]
     },
     "execution_count": 5,
     "metadata": {},
     "output_type": "execute_result"
    }
   ],
   "source": [
    "dbscan.components_"
   ]
  },
  {
   "cell_type": "code",
   "execution_count": 8,
   "id": "30249c0f",
   "metadata": {},
   "outputs": [
    {
     "data": {
      "text/html": [
       "<style>#sk-container-id-2 {color: black;}#sk-container-id-2 pre{padding: 0;}#sk-container-id-2 div.sk-toggleable {background-color: white;}#sk-container-id-2 label.sk-toggleable__label {cursor: pointer;display: block;width: 100%;margin-bottom: 0;padding: 0.3em;box-sizing: border-box;text-align: center;}#sk-container-id-2 label.sk-toggleable__label-arrow:before {content: \"▸\";float: left;margin-right: 0.25em;color: #696969;}#sk-container-id-2 label.sk-toggleable__label-arrow:hover:before {color: black;}#sk-container-id-2 div.sk-estimator:hover label.sk-toggleable__label-arrow:before {color: black;}#sk-container-id-2 div.sk-toggleable__content {max-height: 0;max-width: 0;overflow: hidden;text-align: left;background-color: #f0f8ff;}#sk-container-id-2 div.sk-toggleable__content pre {margin: 0.2em;color: black;border-radius: 0.25em;background-color: #f0f8ff;}#sk-container-id-2 input.sk-toggleable__control:checked~div.sk-toggleable__content {max-height: 200px;max-width: 100%;overflow: auto;}#sk-container-id-2 input.sk-toggleable__control:checked~label.sk-toggleable__label-arrow:before {content: \"▾\";}#sk-container-id-2 div.sk-estimator input.sk-toggleable__control:checked~label.sk-toggleable__label {background-color: #d4ebff;}#sk-container-id-2 div.sk-label input.sk-toggleable__control:checked~label.sk-toggleable__label {background-color: #d4ebff;}#sk-container-id-2 input.sk-hidden--visually {border: 0;clip: rect(1px 1px 1px 1px);clip: rect(1px, 1px, 1px, 1px);height: 1px;margin: -1px;overflow: hidden;padding: 0;position: absolute;width: 1px;}#sk-container-id-2 div.sk-estimator {font-family: monospace;background-color: #f0f8ff;border: 1px dotted black;border-radius: 0.25em;box-sizing: border-box;margin-bottom: 0.5em;}#sk-container-id-2 div.sk-estimator:hover {background-color: #d4ebff;}#sk-container-id-2 div.sk-parallel-item::after {content: \"\";width: 100%;border-bottom: 1px solid gray;flex-grow: 1;}#sk-container-id-2 div.sk-label:hover label.sk-toggleable__label {background-color: #d4ebff;}#sk-container-id-2 div.sk-serial::before {content: \"\";position: absolute;border-left: 1px solid gray;box-sizing: border-box;top: 0;bottom: 0;left: 50%;z-index: 0;}#sk-container-id-2 div.sk-serial {display: flex;flex-direction: column;align-items: center;background-color: white;padding-right: 0.2em;padding-left: 0.2em;position: relative;}#sk-container-id-2 div.sk-item {position: relative;z-index: 1;}#sk-container-id-2 div.sk-parallel {display: flex;align-items: stretch;justify-content: center;background-color: white;position: relative;}#sk-container-id-2 div.sk-item::before, #sk-container-id-2 div.sk-parallel-item::before {content: \"\";position: absolute;border-left: 1px solid gray;box-sizing: border-box;top: 0;bottom: 0;left: 50%;z-index: -1;}#sk-container-id-2 div.sk-parallel-item {display: flex;flex-direction: column;z-index: 1;position: relative;background-color: white;}#sk-container-id-2 div.sk-parallel-item:first-child::after {align-self: flex-end;width: 50%;}#sk-container-id-2 div.sk-parallel-item:last-child::after {align-self: flex-start;width: 50%;}#sk-container-id-2 div.sk-parallel-item:only-child::after {width: 0;}#sk-container-id-2 div.sk-dashed-wrapped {border: 1px dashed gray;margin: 0 0.4em 0.5em 0.4em;box-sizing: border-box;padding-bottom: 0.4em;background-color: white;}#sk-container-id-2 div.sk-label label {font-family: monospace;font-weight: bold;display: inline-block;line-height: 1.2em;}#sk-container-id-2 div.sk-label-container {text-align: center;}#sk-container-id-2 div.sk-container {/* jupyter's `normalize.less` sets `[hidden] { display: none; }` but bootstrap.min.css set `[hidden] { display: none !important; }` so we also need the `!important` here to be able to override the default hidden behavior on the sphinx rendered scikit-learn.org. See: https://github.com/scikit-learn/scikit-learn/issues/21755 */display: inline-block !important;position: relative;}#sk-container-id-2 div.sk-text-repr-fallback {display: none;}</style><div id=\"sk-container-id-2\" class=\"sk-top-container\"><div class=\"sk-text-repr-fallback\"><pre>KNeighborsClassifier(n_neighbors=50)</pre><b>In a Jupyter environment, please rerun this cell to show the HTML representation or trust the notebook. <br />On GitHub, the HTML representation is unable to render, please try loading this page with nbviewer.org.</b></div><div class=\"sk-container\" hidden><div class=\"sk-item\"><div class=\"sk-estimator sk-toggleable\"><input class=\"sk-toggleable__control sk-hidden--visually\" id=\"sk-estimator-id-2\" type=\"checkbox\" checked><label for=\"sk-estimator-id-2\" class=\"sk-toggleable__label sk-toggleable__label-arrow\">KNeighborsClassifier</label><div class=\"sk-toggleable__content\"><pre>KNeighborsClassifier(n_neighbors=50)</pre></div></div></div></div></div>"
      ],
      "text/plain": [
       "KNeighborsClassifier(n_neighbors=50)"
      ]
     },
     "execution_count": 8,
     "metadata": {},
     "output_type": "execute_result"
    }
   ],
   "source": [
    "from sklearn.neighbors import KNeighborsClassifier \n",
    "kn_clr=KNeighborsClassifier(n_neighbors=50)\n",
    "kn_clr.fit(dbscan.components_, dbscan.labels_[dbscan.core_sample_indices_])"
   ]
  },
  {
   "cell_type": "code",
   "execution_count": null,
   "id": "e672335b",
   "metadata": {},
   "outputs": [],
   "source": []
  }
 ],
 "metadata": {
  "kernelspec": {
   "display_name": "Python 3 (ipykernel)",
   "language": "python",
   "name": "python3"
  },
  "language_info": {
   "codemirror_mode": {
    "name": "ipython",
    "version": 3
   },
   "file_extension": ".py",
   "mimetype": "text/x-python",
   "name": "python",
   "nbconvert_exporter": "python",
   "pygments_lexer": "ipython3",
   "version": "3.10.9"
  }
 },
 "nbformat": 4,
 "nbformat_minor": 5
}
