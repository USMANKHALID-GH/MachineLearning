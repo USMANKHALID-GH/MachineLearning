{
 "cells": [
  {
   "cell_type": "code",
   "execution_count": null,
   "id": "1cd54db4",
   "metadata": {
    "is_executing": true
   },
   "outputs": [],
   "source": [
    "import pandas as pd"
   ]
  },
  {
   "cell_type": "code",
   "execution_count": null,
   "id": "1b755005",
   "metadata": {
    "is_executing": true
   },
   "outputs": [],
   "source": [
    "dataset=pd.read_csv(\"municipality_bus_utilization.csv\")"
   ]
  },
  {
   "cell_type": "code",
   "execution_count": 9,
   "id": "b7baf340",
   "metadata": {},
   "outputs": [
    {
     "data": {
      "text/html": [
       "<div>\n",
       "<style scoped>\n",
       "    .dataframe tbody tr th:only-of-type {\n",
       "        vertical-align: middle;\n",
       "    }\n",
       "\n",
       "    .dataframe tbody tr th {\n",
       "        vertical-align: top;\n",
       "    }\n",
       "\n",
       "    .dataframe thead th {\n",
       "        text-align: right;\n",
       "    }\n",
       "</style>\n",
       "<table border=\"1\" class=\"dataframe\">\n",
       "  <thead>\n",
       "    <tr style=\"text-align: right;\">\n",
       "      <th></th>\n",
       "      <th>timestamp</th>\n",
       "      <th>municipality_id</th>\n",
       "      <th>usage</th>\n",
       "      <th>total_capacity</th>\n",
       "    </tr>\n",
       "  </thead>\n",
       "  <tbody>\n",
       "    <tr>\n",
       "      <th>0</th>\n",
       "      <td>2017-06-04 07:59:42</td>\n",
       "      <td>9</td>\n",
       "      <td>454</td>\n",
       "      <td>1332</td>\n",
       "    </tr>\n",
       "    <tr>\n",
       "      <th>1</th>\n",
       "      <td>2017-06-04 07:59:42</td>\n",
       "      <td>8</td>\n",
       "      <td>556</td>\n",
       "      <td>2947</td>\n",
       "    </tr>\n",
       "    <tr>\n",
       "      <th>2</th>\n",
       "      <td>2017-06-04 07:59:42</td>\n",
       "      <td>4</td>\n",
       "      <td>1090</td>\n",
       "      <td>3893</td>\n",
       "    </tr>\n",
       "    <tr>\n",
       "      <th>3</th>\n",
       "      <td>2017-06-04 07:59:42</td>\n",
       "      <td>0</td>\n",
       "      <td>204</td>\n",
       "      <td>2813</td>\n",
       "    </tr>\n",
       "    <tr>\n",
       "      <th>4</th>\n",
       "      <td>2017-06-04 07:59:42</td>\n",
       "      <td>7</td>\n",
       "      <td>718</td>\n",
       "      <td>2019</td>\n",
       "    </tr>\n",
       "  </tbody>\n",
       "</table>\n",
       "</div>"
      ],
      "text/plain": [
       "             timestamp  municipality_id  usage  total_capacity\n",
       "0  2017-06-04 07:59:42                9    454            1332\n",
       "1  2017-06-04 07:59:42                8    556            2947\n",
       "2  2017-06-04 07:59:42                4   1090            3893\n",
       "3  2017-06-04 07:59:42                0    204            2813\n",
       "4  2017-06-04 07:59:42                7    718            2019"
      ]
     },
     "execution_count": 9,
     "metadata": {},
     "output_type": "execute_result"
    }
   ],
   "source": [
    "dataset.head(5)"
   ]
  },
  {
   "cell_type": "code",
   "execution_count": 10,
   "id": "c42b02de",
   "metadata": {},
   "outputs": [
    {
     "data": {
      "text/plain": [
       "<bound method NDFrame.describe of                  timestamp  municipality_id  usage  total_capacity\n",
       "0      2017-06-04 07:59:42                9    454            1332\n",
       "1      2017-06-04 07:59:42                8    556            2947\n",
       "2      2017-06-04 07:59:42                4   1090            3893\n",
       "3      2017-06-04 07:59:42                0    204            2813\n",
       "4      2017-06-04 07:59:42                7    718            2019\n",
       "...                    ...              ...    ...             ...\n",
       "13065  2017-08-19 16:30:35                2    548             697\n",
       "13066  2017-08-19 16:30:35                8   1193            2947\n",
       "13067  2017-08-19 16:30:35                7   1354            2019\n",
       "13068  2017-08-19 16:30:35                6   1680            3113\n",
       "13069  2017-08-19 16:30:35                3   1189            1930\n",
       "\n",
       "[13070 rows x 4 columns]>"
      ]
     },
     "execution_count": 10,
     "metadata": {},
     "output_type": "execute_result"
    }
   ],
   "source": [
    "dataset.describe"
   ]
  },
  {
   "cell_type": "code",
   "execution_count": 13,
   "id": "14711891",
   "metadata": {},
   "outputs": [
    {
     "data": {
      "text/plain": [
       "<bound method DataFrame.info of                  timestamp  municipality_id  usage  total_capacity\n",
       "0      2017-06-04 07:59:42                9    454            1332\n",
       "1      2017-06-04 07:59:42                8    556            2947\n",
       "2      2017-06-04 07:59:42                4   1090            3893\n",
       "3      2017-06-04 07:59:42                0    204            2813\n",
       "4      2017-06-04 07:59:42                7    718            2019\n",
       "...                    ...              ...    ...             ...\n",
       "13065  2017-08-19 16:30:35                2    548             697\n",
       "13066  2017-08-19 16:30:35                8   1193            2947\n",
       "13067  2017-08-19 16:30:35                7   1354            2019\n",
       "13068  2017-08-19 16:30:35                6   1680            3113\n",
       "13069  2017-08-19 16:30:35                3   1189            1930\n",
       "\n",
       "[13070 rows x 4 columns]>"
      ]
     },
     "execution_count": 13,
     "metadata": {},
     "output_type": "execute_result"
    }
   ],
   "source": [
    "dataset.info"
   ]
  },
  {
   "cell_type": "code",
   "execution_count": 31,
   "id": "dc300e95",
   "metadata": {},
   "outputs": [],
   "source": [
    "dataunique=dataset[\"municipality_id\"].unique"
   ]
  },
  {
   "cell_type": "code",
   "execution_count": 32,
   "id": "8ff562a2",
   "metadata": {},
   "outputs": [
    {
     "data": {
      "text/plain": [
       "<bound method Series.unique of 0        2\n",
       "1        2\n",
       "2        2\n",
       "3        2\n",
       "4        2\n",
       "        ..\n",
       "13065    2\n",
       "13066    2\n",
       "13067    2\n",
       "13068    2\n",
       "13069    2\n",
       "Name: municipality_id, Length: 13070, dtype: int64>"
      ]
     },
     "execution_count": 32,
     "metadata": {},
     "output_type": "execute_result"
    }
   ],
   "source": []
  },
  {
   "cell_type": "code",
   "execution_count": null,
   "id": "b814aa5d",
   "metadata": {},
   "outputs": [],
   "source": []
  }
 ],
 "metadata": {
  "kernelspec": {
   "display_name": "Python 3 (ipykernel)",
   "language": "python",
   "name": "python3"
  },
  "language_info": {
   "codemirror_mode": {
    "name": "ipython",
    "version": 3
   },
   "file_extension": ".py",
   "mimetype": "text/x-python",
   "name": "python",
   "nbconvert_exporter": "python",
   "pygments_lexer": "ipython3",
   "version": "3.10.7"
  }
 },
 "nbformat": 4,
 "nbformat_minor": 5
}
