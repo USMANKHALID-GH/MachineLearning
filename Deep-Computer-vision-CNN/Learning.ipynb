{
  "cells": [
    {
      "cell_type": "code",
      "execution_count": 1,
      "metadata": {
        "collapsed": true,
        "ExecuteTime": {
          "end_time": "2024-02-12T08:24:49.540249700Z",
          "start_time": "2024-02-12T08:24:49.496939900Z"
        },
        "id": "aTcymF1jbg39"
      },
      "outputs": [],
      "source": [
        "from sklearn.datasets import  load_sample_images\n",
        "import  tensorflow as tf"
      ]
    },
    {
      "cell_type": "code",
      "execution_count": 3,
      "outputs": [
        {
          "output_type": "execute_result",
          "data": {
            "text/plain": [
              "<tf.Tensor: shape=(2, 70, 120, 3), dtype=float32, numpy=\n",
              "array([[[[0.30588236, 0.4039216 , 0.3921569 ],\n",
              "         [0.0509804 , 0.14509805, 0.16078432],\n",
              "         [0.21568629, 0.3372549 , 0.31764707],\n",
              "         ...,\n",
              "         [0.9058824 , 0.90196085, 0.9215687 ],\n",
              "         [0.9058824 , 0.90196085, 0.9215687 ],\n",
              "         [0.9058824 , 0.90196085, 0.9215687 ]],\n",
              "\n",
              "        [[0.4901961 , 0.54901963, 0.5686275 ],\n",
              "         [0.22352943, 0.27450982, 0.30980393],\n",
              "         [0.16862746, 0.25490198, 0.24705884],\n",
              "         ...,\n",
              "         [0.90196085, 0.8980393 , 0.9176471 ],\n",
              "         [0.90196085, 0.8980393 , 0.9176471 ],\n",
              "         [0.9058824 , 0.9058824 , 0.91372555]],\n",
              "\n",
              "        [[0.48627454, 0.4039216 , 0.46274513],\n",
              "         [0.42352945, 0.4039216 , 0.41960788],\n",
              "         [0.10588236, 0.12156864, 0.13333334],\n",
              "         ...,\n",
              "         [0.8980393 , 0.8980393 , 0.9058824 ],\n",
              "         [0.90196085, 0.90196085, 0.909804  ],\n",
              "         [0.90196085, 0.90196085, 0.909804  ]],\n",
              "\n",
              "        ...,\n",
              "\n",
              "        [[0.33333334, 0.2901961 , 0.26666668],\n",
              "         [0.3137255 , 0.30588236, 0.25490198],\n",
              "         [0.33333334, 0.32156864, 0.2627451 ],\n",
              "         ...,\n",
              "         [0.7686275 , 0.8078432 , 0.80392164],\n",
              "         [0.7686275 , 0.8078432 , 0.80392164],\n",
              "         [0.7843138 , 0.81568635, 0.8235295 ]],\n",
              "\n",
              "        [[0.43921572, 0.45098042, 0.4156863 ],\n",
              "         [0.31764707, 0.34901962, 0.25490198],\n",
              "         [0.3921569 , 0.38823533, 0.2784314 ],\n",
              "         ...,\n",
              "         [0.7843138 , 0.8235295 , 0.8196079 ],\n",
              "         [0.7607844 , 0.7960785 , 0.79215693],\n",
              "         [0.7725491 , 0.8078432 , 0.80392164]],\n",
              "\n",
              "        [[0.4431373 , 0.4666667 , 0.4666667 ],\n",
              "         [0.3921569 , 0.427451  , 0.34509805],\n",
              "         [0.4156863 , 0.43137258, 0.33333334],\n",
              "         ...,\n",
              "         [0.7568628 , 0.79215693, 0.7803922 ],\n",
              "         [0.7843138 , 0.8196079 , 0.81568635],\n",
              "         [0.7725491 , 0.8078432 , 0.80392164]]],\n",
              "\n",
              "\n",
              "       [[[0.8352942 , 0.42352945, 0.15686275],\n",
              "         [0.83921576, 0.41960788, 0.13725491],\n",
              "         [0.854902  , 0.43137258, 0.14901961],\n",
              "         ...,\n",
              "         [0.9333334 , 0.53333336, 0.27450982],\n",
              "         [0.9333334 , 0.57254905, 0.30980393],\n",
              "         [0.9294118 , 0.6039216 , 0.3372549 ]],\n",
              "\n",
              "        [[0.87843144, 0.4156863 , 0.1254902 ],\n",
              "         [0.8745099 , 0.40784317, 0.09411766],\n",
              "         [0.854902  , 0.37647063, 0.0509804 ],\n",
              "         ...,\n",
              "         [0.92549026, 0.5529412 , 0.28627452],\n",
              "         [0.9490197 , 0.58431375, 0.30980393],\n",
              "         [0.9294118 , 0.5647059 , 0.2901961 ]],\n",
              "\n",
              "        [[0.82745105, 0.3529412 , 0.03529412],\n",
              "         [0.8196079 , 0.34117648, 0.00392157],\n",
              "         [0.8470589 , 0.34509805, 0.        ],\n",
              "         ...,\n",
              "         [0.93725497, 0.61960787, 0.4039216 ],\n",
              "         [0.9333334 , 0.5764706 , 0.36078432],\n",
              "         [0.909804  , 0.53333336, 0.29803923]],\n",
              "\n",
              "        ...,\n",
              "\n",
              "        [[0.97647065, 0.5686275 , 0.2901961 ],\n",
              "         [0.9294118 , 0.5254902 , 0.23137257],\n",
              "         [0.9215687 , 0.54509807, 0.24705884],\n",
              "         ...,\n",
              "         [0.86274517, 0.38431376, 0.12156864],\n",
              "         [0.8588236 , 0.40000004, 0.1254902 ],\n",
              "         [0.83921576, 0.42352945, 0.13333334]],\n",
              "\n",
              "        [[0.9294118 , 0.5411765 , 0.2784314 ],\n",
              "         [0.9803922 , 0.54509807, 0.26666668],\n",
              "         [0.9725491 , 0.5294118 , 0.2627451 ],\n",
              "         ...,\n",
              "         [0.8470589 , 0.38431376, 0.13333334],\n",
              "         [0.882353  , 0.4156863 , 0.14901961],\n",
              "         [0.86666673, 0.43137258, 0.14901961]],\n",
              "\n",
              "        [[0.9607844 , 0.5686275 , 0.3372549 ],\n",
              "         [0.95294124, 0.5529412 , 0.29411766],\n",
              "         [0.9490197 , 0.5019608 , 0.26666668],\n",
              "         ...,\n",
              "         [0.8078432 , 0.3803922 , 0.1254902 ],\n",
              "         [0.86666673, 0.40784317, 0.13725491],\n",
              "         [0.8745099 , 0.43529415, 0.14509805]]]], dtype=float32)>"
            ]
          },
          "metadata": {},
          "execution_count": 3
        }
      ],
      "source": [
        "images =load_sample_images()[\"images\"]\n",
        "images= tf.keras.layers.CenterCrop(height=70, width=120)(images)\n",
        "images= tf.keras.layers.Rescaling(scale=1/255)(images); images"
      ],
      "metadata": {
        "ExecuteTime": {
          "end_time": "2024-02-12T08:25:51.917379600Z",
          "start_time": "2024-02-12T08:25:51.873009400Z"
        },
        "id": "uTgbcReLbg3-",
        "outputId": "518624fa-2424-4a51-ba91-998c272fd901",
        "colab": {
          "base_uri": "https://localhost:8080/"
        }
      }
    },
    {
      "cell_type": "code",
      "source": [
        "images.shape"
      ],
      "metadata": {
        "id": "TyeTR0qmbxNs",
        "outputId": "54454442-db80-4ca3-a196-6ae45b7c1b0b",
        "colab": {
          "base_uri": "https://localhost:8080/"
        }
      },
      "execution_count": 4,
      "outputs": [
        {
          "output_type": "execute_result",
          "data": {
            "text/plain": [
              "TensorShape([2, 70, 120, 3])"
            ]
          },
          "metadata": {},
          "execution_count": 4
        }
      ]
    },
    {
      "cell_type": "markdown",
      "source": [
        "### ConV Layers"
      ],
      "metadata": {
        "id": "mNngK_67dwpw"
      }
    },
    {
      "cell_type": "code",
      "execution_count": 5,
      "outputs": [],
      "source": [
        "convo_layers = tf.keras.layers.Conv2D(filters=32,kernel_size=7)\n",
        "fmaps = convo_layers(images)"
      ],
      "metadata": {
        "ExecuteTime": {
          "end_time": "2024-02-12T08:25:02.291067Z",
          "start_time": "2024-02-12T08:25:02.133054300Z"
        },
        "id": "6KZXkIckbg3-"
      }
    },
    {
      "cell_type": "code",
      "execution_count": 7,
      "outputs": [
        {
          "output_type": "execute_result",
          "data": {
            "text/plain": [
              "TensorShape([2, 64, 114, 32])"
            ]
          },
          "metadata": {},
          "execution_count": 7
        }
      ],
      "source": [
        "fmaps.shape"
      ],
      "metadata": {
        "id": "5ub7xSUIbg3-",
        "outputId": "07788129-5988-4e2d-934c-fb6c0b0402c2",
        "colab": {
          "base_uri": "https://localhost:8080/"
        }
      }
    },
    {
      "cell_type": "code",
      "source": [
        "convo_layers = tf.keras.layers.Conv2D(filters=32,padding=\"same\",kernel_size=7)\n",
        "fmaps = convo_layers(images)"
      ],
      "metadata": {
        "id": "8BVAqGsxb6_W"
      },
      "execution_count": 9,
      "outputs": []
    },
    {
      "cell_type": "code",
      "source": [
        "fmaps.shape"
      ],
      "metadata": {
        "id": "Jfae3T0ab7Ds",
        "outputId": "0f2c9dd2-dae5-45cc-a8fc-e0fbc1364b26",
        "colab": {
          "base_uri": "https://localhost:8080/"
        }
      },
      "execution_count": 10,
      "outputs": [
        {
          "output_type": "execute_result",
          "data": {
            "text/plain": [
              "TensorShape([2, 70, 120, 32])"
            ]
          },
          "metadata": {},
          "execution_count": 10
        }
      ]
    },
    {
      "cell_type": "code",
      "source": [
        "convo_layers = tf.keras.layers.Conv2D(filters=32,padding=\"valid\",kernel_size=7)\n",
        "fmaps = convo_layers(images)\n",
        "fmaps.shape"
      ],
      "metadata": {
        "id": "__7Tl77xb7HJ",
        "outputId": "a20e3400-c647-46bd-b445-ca97206b66fe",
        "colab": {
          "base_uri": "https://localhost:8080/"
        }
      },
      "execution_count": 12,
      "outputs": [
        {
          "output_type": "execute_result",
          "data": {
            "text/plain": [
              "TensorShape([2, 64, 114, 32])"
            ]
          },
          "metadata": {},
          "execution_count": 12
        }
      ]
    },
    {
      "cell_type": "code",
      "source": [
        "convo_layers = tf.keras.layers.Conv2D(filters=32,padding=\"valid\",kernel_size=7,strides=2)\n",
        "fmaps = convo_layers(images)\n",
        "fmaps.shape"
      ],
      "metadata": {
        "id": "07XY-706b7KY",
        "outputId": "ba27e01e-80ff-4adf-e870-e6f2bc2ee168",
        "colab": {
          "base_uri": "https://localhost:8080/"
        }
      },
      "execution_count": 13,
      "outputs": [
        {
          "output_type": "execute_result",
          "data": {
            "text/plain": [
              "TensorShape([2, 32, 57, 32])"
            ]
          },
          "metadata": {},
          "execution_count": 13
        }
      ]
    },
    {
      "cell_type": "code",
      "source": [
        "convo_layers = tf.keras.layers.Conv2D(filters=32,padding=\"valid\",kernel_size=7,strides=(3,3))\n",
        "fmaps = convo_layers(images)\n",
        "fmaps.shape"
      ],
      "metadata": {
        "id": "ZnOcOFhtb7OS",
        "outputId": "04895742-c53e-4e2f-bcc1-3389643bc68a",
        "colab": {
          "base_uri": "https://localhost:8080/"
        }
      },
      "execution_count": 15,
      "outputs": [
        {
          "output_type": "execute_result",
          "data": {
            "text/plain": [
              "TensorShape([2, 22, 38, 32])"
            ]
          },
          "metadata": {},
          "execution_count": 15
        }
      ]
    },
    {
      "cell_type": "code",
      "source": [
        "kernal,biases=convo_layers.get_weights()"
      ],
      "metadata": {
        "id": "hyYbSUJ3c_lv"
      },
      "execution_count": 16,
      "outputs": []
    },
    {
      "cell_type": "code",
      "source": [
        "kernal.shape"
      ],
      "metadata": {
        "id": "W07gMdVJdJO1",
        "outputId": "a7616b8e-baba-4c26-f691-cf1d90b6332e",
        "colab": {
          "base_uri": "https://localhost:8080/"
        }
      },
      "execution_count": 17,
      "outputs": [
        {
          "output_type": "execute_result",
          "data": {
            "text/plain": [
              "(7, 7, 3, 32)"
            ]
          },
          "metadata": {},
          "execution_count": 17
        }
      ]
    },
    {
      "cell_type": "code",
      "source": [
        "biases.shape"
      ],
      "metadata": {
        "id": "imHh4c9jdO4p",
        "outputId": "b111ad45-0810-4183-f253-828671603ba2",
        "colab": {
          "base_uri": "https://localhost:8080/"
        }
      },
      "execution_count": 19,
      "outputs": [
        {
          "output_type": "execute_result",
          "data": {
            "text/plain": [
              "(32,)"
            ]
          },
          "metadata": {},
          "execution_count": 19
        }
      ]
    },
    {
      "cell_type": "markdown",
      "source": [
        "## POOLING LAYERS"
      ],
      "metadata": {
        "id": "zgHNFPa_d1rM"
      }
    },
    {
      "cell_type": "code",
      "source": [
        "max_pool=tf.keras.layers.MaxPool2D(pool_size=2)\n",
        "img=max_pool(images).shape\n",
        "img"
      ],
      "metadata": {
        "id": "Ein1WyDBd4W3",
        "outputId": "dc668f15-f434-489f-c8b0-6097122ea9e8",
        "colab": {
          "base_uri": "https://localhost:8080/"
        }
      },
      "execution_count": 30,
      "outputs": [
        {
          "output_type": "execute_result",
          "data": {
            "text/plain": [
              "TensorShape([2, 35, 60, 3])"
            ]
          },
          "metadata": {},
          "execution_count": 30
        }
      ]
    },
    {
      "cell_type": "code",
      "source": [
        "# Simple CNN MODEL"
      ],
      "metadata": {
        "id": "32FuGhKaeCo1"
      },
      "execution_count": 30,
      "outputs": []
    },
    {
      "cell_type": "code",
      "source": [
        "from functools import partial"
      ],
      "metadata": {
        "id": "r2X2fNrQgif6"
      },
      "execution_count": 31,
      "outputs": []
    },
    {
      "cell_type": "code",
      "source": [
        "DefaultConv2d = partial(\n",
        "    tf.keras.layers.Conv2D, kernel_size=3, activation=\"relu\", padding='same', kernel_initializer=\"he_normal\"\n",
        ")"
      ],
      "metadata": {
        "id": "NtF0wGspgoex"
      },
      "execution_count": 37,
      "outputs": []
    },
    {
      "cell_type": "code",
      "source": [
        "\n",
        "\n",
        "\n",
        "\n",
        "model = tf.keras.Sequential([\n",
        "    DefaultConv2d(filters=64, input_shape=[28, 28, 1]),\n",
        "    tf.keras.layers.MaxPool2D(),\n",
        "    DefaultConv2d(filters=180),\n",
        "    tf.keras.layers.MaxPool2D(),\n",
        "    DefaultConv2d(filters=200),\n",
        "    tf.keras.layers.MaxPool2D(),\n",
        "    DefaultConv2d(filters=230),\n",
        "    tf.keras.layers.GlobalAveragePooling2D(),\n",
        "    tf.keras.layers.Dense(120, activation=\"softmax\")\n",
        "])\n",
        "\n",
        "model.summary()\n"
      ],
      "metadata": {
        "id": "cYg49BIlhF3H",
        "outputId": "9bce0a78-a721-4d56-fbbf-6dba170d7f0f",
        "colab": {
          "base_uri": "https://localhost:8080/"
        }
      },
      "execution_count": 38,
      "outputs": [
        {
          "output_type": "stream",
          "name": "stdout",
          "text": [
            "Model: \"sequential\"\n",
            "_________________________________________________________________\n",
            " Layer (type)                Output Shape              Param #   \n",
            "=================================================================\n",
            " conv2d_10 (Conv2D)          (None, 28, 28, 64)        640       \n",
            "                                                                 \n",
            " max_pooling2d_9 (MaxPoolin  (None, 14, 14, 64)        0         \n",
            " g2D)                                                            \n",
            "                                                                 \n",
            " conv2d_11 (Conv2D)          (None, 14, 14, 180)       103860    \n",
            "                                                                 \n",
            " max_pooling2d_10 (MaxPooli  (None, 7, 7, 180)         0         \n",
            " ng2D)                                                           \n",
            "                                                                 \n",
            " conv2d_12 (Conv2D)          (None, 7, 7, 200)         324200    \n",
            "                                                                 \n",
            " max_pooling2d_11 (MaxPooli  (None, 3, 3, 200)         0         \n",
            " ng2D)                                                           \n",
            "                                                                 \n",
            " conv2d_13 (Conv2D)          (None, 3, 3, 230)         414230    \n",
            "                                                                 \n",
            " global_average_pooling2d (  (None, 230)               0         \n",
            " GlobalAveragePooling2D)                                         \n",
            "                                                                 \n",
            " dense (Dense)               (None, 120)               27720     \n",
            "                                                                 \n",
            "=================================================================\n",
            "Total params: 870650 (3.32 MB)\n",
            "Trainable params: 870650 (3.32 MB)\n",
            "Non-trainable params: 0 (0.00 Byte)\n",
            "_________________________________________________________________\n"
          ]
        }
      ]
    }
  ],
  "metadata": {
    "kernelspec": {
      "display_name": "Python 3",
      "name": "python3"
    },
    "language_info": {
      "codemirror_mode": {
        "name": "ipython",
        "version": 2
      },
      "file_extension": ".py",
      "mimetype": "text/x-python",
      "name": "python",
      "nbconvert_exporter": "python",
      "pygments_lexer": "ipython2",
      "version": "2.7.6"
    },
    "colab": {
      "provenance": [],
      "gpuType": "T4"
    },
    "accelerator": "GPU"
  },
  "nbformat": 4,
  "nbformat_minor": 0
}